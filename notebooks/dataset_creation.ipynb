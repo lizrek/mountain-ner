{
 "cells": [
  {
   "cell_type": "markdown",
   "metadata": {},
   "source": [
    "# Dataset creation process\n",
    "\n",
    "This notebook aims to create a dataset of mountain names and generate new training sentences for Named Entity Recognition (NER) tasks. It includes importing data, extracting mountain names, and saving the results."
   ]
  },
  {
   "cell_type": "markdown",
   "metadata": {},
   "source": [
    "## 1. Import necessary libraries"
   ]
  },
  {
   "cell_type": "code",
   "execution_count": 1,
   "metadata": {},
   "outputs": [],
   "source": [
    "# Import key libraries for data manipulation and processing\n",
    "\n",
    "import json\n",
    "import random\n",
    "import pyperclip\n",
    "import re\n",
    "import pandas as pd"
   ]
  },
  {
   "cell_type": "markdown",
   "metadata": {},
   "source": [
    "## 2. Load dataset containing mountain names"
   ]
  },
  {
   "cell_type": "code",
   "execution_count": 4,
   "metadata": {},
   "outputs": [
    {
     "data": {
      "text/html": [
       "<div>\n",
       "<style scoped>\n",
       "    .dataframe tbody tr th:only-of-type {\n",
       "        vertical-align: middle;\n",
       "    }\n",
       "\n",
       "    .dataframe tbody tr th {\n",
       "        vertical-align: top;\n",
       "    }\n",
       "\n",
       "    .dataframe thead th {\n",
       "        text-align: right;\n",
       "    }\n",
       "</style>\n",
       "<table border=\"1\" class=\"dataframe\">\n",
       "  <thead>\n",
       "    <tr style=\"text-align: right;\">\n",
       "      <th></th>\n",
       "      <th>rank</th>\n",
       "      <th>Mountain name(s)</th>\n",
       "      <th>Height_m</th>\n",
       "      <th>Height_ft</th>\n",
       "      <th>Prominence_m</th>\n",
       "      <th>Prominence_ft</th>\n",
       "      <th>Range</th>\n",
       "      <th>coordinates</th>\n",
       "      <th>Parent mountain</th>\n",
       "      <th>ascents_first</th>\n",
       "      <th>ascents_before_2004_successful</th>\n",
       "      <th>ascents_before_2004_unsuccessful</th>\n",
       "      <th>country</th>\n",
       "    </tr>\n",
       "  </thead>\n",
       "  <tbody>\n",
       "    <tr>\n",
       "      <th>0</th>\n",
       "      <td>1</td>\n",
       "      <td>Mount Everest\\nSagarmath\\nChomolungma</td>\n",
       "      <td>8848.86</td>\n",
       "      <td>29031.7</td>\n",
       "      <td>8848</td>\n",
       "      <td>29029</td>\n",
       "      <td>Mahalangur Himalaya</td>\n",
       "      <td>27°59′17″N 86°55′31″E</td>\n",
       "      <td>—</td>\n",
       "      <td>1953</td>\n",
       "      <td>145</td>\n",
       "      <td>121</td>\n",
       "      <td>Nepal\\nChina</td>\n",
       "    </tr>\n",
       "    <tr>\n",
       "      <th>1</th>\n",
       "      <td>2</td>\n",
       "      <td>K2</td>\n",
       "      <td>8611.00</td>\n",
       "      <td>28251.0</td>\n",
       "      <td>4020</td>\n",
       "      <td>13190</td>\n",
       "      <td>Baltoro Karakoram</td>\n",
       "      <td>35°52′53″N 76°30′48″E</td>\n",
       "      <td>Mount Everest</td>\n",
       "      <td>1954</td>\n",
       "      <td>45</td>\n",
       "      <td>44</td>\n",
       "      <td>Pakistan\\nChina</td>\n",
       "    </tr>\n",
       "    <tr>\n",
       "      <th>2</th>\n",
       "      <td>3</td>\n",
       "      <td>Kangchenjunga</td>\n",
       "      <td>8586.00</td>\n",
       "      <td>28169.0</td>\n",
       "      <td>3922</td>\n",
       "      <td>12867</td>\n",
       "      <td>Kangchenjunga Himalaya</td>\n",
       "      <td>27°42′12″N 88°08′51″E</td>\n",
       "      <td>Mount Everest</td>\n",
       "      <td>1955</td>\n",
       "      <td>38</td>\n",
       "      <td>24</td>\n",
       "      <td>Nepal\\nIndia</td>\n",
       "    </tr>\n",
       "    <tr>\n",
       "      <th>3</th>\n",
       "      <td>4</td>\n",
       "      <td>Lhotse</td>\n",
       "      <td>8516.00</td>\n",
       "      <td>27940.0</td>\n",
       "      <td>610</td>\n",
       "      <td>2000</td>\n",
       "      <td>Mahalangur Himalaya</td>\n",
       "      <td>27°57′42″N 86°55′59″E</td>\n",
       "      <td>Mount Everest</td>\n",
       "      <td>1956</td>\n",
       "      <td>26</td>\n",
       "      <td>26</td>\n",
       "      <td>Nepal\\nChina</td>\n",
       "    </tr>\n",
       "    <tr>\n",
       "      <th>4</th>\n",
       "      <td>5</td>\n",
       "      <td>Makalu</td>\n",
       "      <td>8485.00</td>\n",
       "      <td>27838.0</td>\n",
       "      <td>2378</td>\n",
       "      <td>7802</td>\n",
       "      <td>Mahalangur Himalaya</td>\n",
       "      <td>27°53′23″N 87°05′20″E</td>\n",
       "      <td>Mount Everest</td>\n",
       "      <td>1955</td>\n",
       "      <td>45</td>\n",
       "      <td>—</td>\n",
       "      <td>Nepal\\nChina</td>\n",
       "    </tr>\n",
       "  </tbody>\n",
       "</table>\n",
       "</div>"
      ],
      "text/plain": [
       "  rank                       Mountain name(s)  Height_m  Height_ft  \\\n",
       "0    1  Mount Everest\\nSagarmath\\nChomolungma   8848.86    29031.7   \n",
       "1    2                                     K2   8611.00    28251.0   \n",
       "2    3                          Kangchenjunga   8586.00    28169.0   \n",
       "3    4                                 Lhotse   8516.00    27940.0   \n",
       "4    5                                 Makalu   8485.00    27838.0   \n",
       "\n",
       "   Prominence_m  Prominence_ft                   Range            coordinates  \\\n",
       "0          8848          29029     Mahalangur Himalaya  27°59′17″N 86°55′31″E   \n",
       "1          4020          13190       Baltoro Karakoram  35°52′53″N 76°30′48″E   \n",
       "2          3922          12867  Kangchenjunga Himalaya  27°42′12″N 88°08′51″E   \n",
       "3           610           2000     Mahalangur Himalaya  27°57′42″N 86°55′59″E   \n",
       "4          2378           7802     Mahalangur Himalaya  27°53′23″N 87°05′20″E   \n",
       "\n",
       "  Parent mountain ascents_first ascents_before_2004_successful  \\\n",
       "0               —          1953                            145   \n",
       "1   Mount Everest          1954                             45   \n",
       "2   Mount Everest          1955                             38   \n",
       "3   Mount Everest          1956                             26   \n",
       "4   Mount Everest          1955                             45   \n",
       "\n",
       "  ascents_before_2004_unsuccessful          country  \n",
       "0                              121     Nepal\\nChina  \n",
       "1                               44  Pakistan\\nChina  \n",
       "2                               24     Nepal\\nIndia  \n",
       "3                               26     Nepal\\nChina  \n",
       "4                                —     Nepal\\nChina  "
      ]
     },
     "execution_count": 4,
     "metadata": {},
     "output_type": "execute_result"
    }
   ],
   "source": [
    "# Load CSV file that contains information about various mountains including their synonyms\n",
    "file_path = \"../data/raw_data/Top_montains_data.csv\"\n",
    "mountain_df = pd.read_csv(file_path)\n",
    "mountain_df.head()"
   ]
  },
  {
   "cell_type": "markdown",
   "metadata": {},
   "source": [
    "## 3. Extract mountains names from the dataset"
   ]
  },
  {
   "cell_type": "code",
   "execution_count": 6,
   "metadata": {},
   "outputs": [
    {
     "name": "stdout",
     "output_type": "stream",
     "text": [
      "[['Mount Everest', 'Sagarmath', 'Chomolungma'], ['K2'], ['Kangchenjunga'], ['Lhotse'], ['Makalu'], ['Cho Oyu'], ['Dhaulagiri I'], ['Manaslu'], ['Nanga Parbat'], ['Annapurna I'], ['Gasherbrum I', 'Hidden Peak', 'K5'], ['Broad Peak'], ['Gasherbrum II', 'K4'], ['Shishapangma', 'Gosainthan'], ['Gyachung Kang'], ['Gasherbrum III', 'K3a'], ['Annapurna II'], ['Gasherbrum IV', 'K3'], ['Himalchuli'], ['Distaghil Sar'], ['Ngadi Chuli'], ['Nuptse'], ['Khunyang Chhish'], ['Masherbrum', 'K1'], ['Nanda Devi'], ['Chomo Lonzo'], ['Batura Sar'], ['Rakaposhi'], ['Namcha Barwa'], ['Kanjut Sar'], ['Kamet'], ['Dhaulagiri II'], ['Saltoro Kangri', 'K10'], ['Kumbhakarna', 'Jannu'], ['Tirich Mir'], ['Molamenqing'], ['Gurla Mandhata'], ['Saser Kangri I', 'K22'], ['Chogolisa'], ['Dhaulagiri IV'], ['Kongur Tagh'], ['Dhaulagiri V'], ['Shispare'], ['Trivor'], ['Gangkhar Puensum'], ['Gongga Shan', 'Minya Konka'], ['Annapurna III'], ['Skyang Kangri'], ['Changtse'], ['Kula Kangri'], ['Kongur Tiube'], ['Annapurna IV'], ['Mamostong Kangri'], ['Saser Kangri II E'], ['Muztagh Ata'], ['Ismoil Somoni Peak'], ['Saser Kangri III'], ['Noshaq'], ['Pumari Chhish'], ['Passu Sar'], ['Yukshin Gardan Sar'], ['Teram Kangri I'], ['Jongsong Peak'], ['Malubiting'], ['Gangapurna'], ['Jengish Chokusu', 'Tömür', 'Pik Pobedy'], ['Sunanda Devi', 'Nanda Devi East'], ['K12'], ['Yangra', 'Ganesh I'], ['Sia Kangri'], ['Momhil Sar'], ['Kabru N'], ['Skil Brum'], ['Haramosh Peak'], ['Istor-o-Nal'], ['Ghent Kangri'], ['Ultar'], ['Rimo I'], ['Churen Himal'], ['Teram Kangri III'], ['Sherpi Kangri'], ['Labuche Kang'], ['Kirat Chuli'], ['Abi Gamin'], ['Gimmigela Chuli', 'The Twins'], ['Nangpai Gosum'], ['Saraghrar'], ['Talung'], ['Jomolhari', 'Chomo Lhari'], ['Chamlang'], ['Chongtar'], ['Baltoro Kangri'], ['Siguang Ri'], ['The Crown', 'Huang Guan Shan'], ['Gyala Peri'], ['Porong Ri'], ['Baintha Brakk', 'The Ogre'], ['Yutmaru Sar'], ['K6', 'Baltistan Peak'], ['Kangpenqing', 'Gang Benchhen'], ['Muztagh Tower'], ['Mana Peak'], ['Dhaulagiri VI'], ['Diran'], ['Labuche Kang III', 'Labuche Kang East'], ['Putha Hiunchuli'], ['Apsarasas Kangri'], ['Mukut Parbat'], ['Rimo III'], ['Langtang Lirung'], ['Karjiang'], ['Annapurna Dakshin (Annapurna South)'], ['Khartaphu'], ['Tongshanjiabu[19]'], ['Malangutti Sar'], ['Noijin Kangsang', 'Norin Kang'], ['Langtang Ri'], ['Kangphu Kang', 'Shimokangri'], ['Singhi Kangri'], ['Lupghar Sar']]\n"
     ]
    }
   ],
   "source": [
    "# Define a function to extract the main mountain names and their synonyms\n",
    "# This function returns a list of lists where each inner list contains the primary name and it's synonyms\n",
    "def extract_mountain_names_from_csv(df):\n",
    "\n",
    "    \"\"\"\n",
    "    Extract mountain names and their synonyms from the dataset.\n",
    "\n",
    "    Args:\n",
    "        df (DataFrame): A dataframe containing mountain information.\n",
    "\n",
    "    Returns:\n",
    "        list: A list of lists containing the main names and synonyms of mountains.\n",
    "    \"\"\"\n",
    "    \n",
    "    mountain_names = []\n",
    "    for _, row in df.iterrows():\n",
    "        # Check if mountain names separated by new lines or commas\n",
    "        names = row[\"Mountain name(s)\"].split('\\n') if '\\n' in row[\"Mountain name(s)\"] else row[\"Mountain name(s)\"].split(',')\n",
    "        names = [name.strip() for name in names if name.strip()] # Clean whitespace\n",
    "        mountain_names.append(names) # Add the cleaned names to the list\n",
    "\n",
    "    return mountain_names\n",
    "\n",
    "# Extract the cleaned mountain names\n",
    "mountain_names = extract_mountain_names_from_csv(mountain_df)\n",
    "print(mountain_names)"
   ]
  },
  {
   "cell_type": "markdown",
   "metadata": {},
   "source": [
    "## 4. Divide mountain names into groups"
   ]
  },
  {
   "cell_type": "code",
   "execution_count": 8,
   "metadata": {},
   "outputs": [
    {
     "name": "stdout",
     "output_type": "stream",
     "text": [
      "[['Labuche Kang III', 'Labuche Kang East'], ['Gongga Shan', 'Minya Konka'], ['Baintha Brakk', 'The Ogre'], ['Jomolhari', 'Chomo Lhari'], ['Jengish Chokusu', 'Tömür', 'Pik Pobedy'], ['The Crown', 'Huang Guan Shan'], ['Gimmigela Chuli', 'The Twins'], ['Masherbrum', 'K1'], ['Saltoro Kangri', 'K10'], ['Shishapangma', 'Gosainthan'], ['Kangpenqing', 'Gang Benchhen'], ['Gasherbrum II', 'K4'], ['Kangphu Kang', 'Shimokangri'], ['Gasherbrum I', 'Hidden Peak', 'K5'], ['Sunanda Devi', 'Nanda Devi East'], ['Yangra', 'Ganesh I'], ['Noijin Kangsang', 'Norin Kang'], ['Gasherbrum IV', 'K3'], ['Gasherbrum III', 'K3a'], ['Saser Kangri I', 'K22'], ['K6', 'Baltistan Peak'], ['Kumbhakarna', 'Jannu'], ['Mount Everest', 'Sagarmath', 'Chomolungma'], ['Muztagh Ata', 'Annapurna Dakshin (Annapurna South)'], ['Apsarasas Kangri', 'Pumari Chhish'], ['Kula Kangri', 'Annapurna IV'], ['Mukut Parbat', 'Kanjut Sar'], ['Dhaulagiri I', 'Ultar'], ['Annapurna I', 'Skil Brum'], ['Kangchenjunga', 'Skyang Kangri'], ['Noshaq', 'Rakaposhi'], ['Ghent Kangri', 'Annapurna II'], ['Malubiting', 'Khartaphu'], ['Momhil Sar', 'Gyala Peri'], ['Dhaulagiri VI', 'Churen Himal'], ['Mana Peak', 'Porong Ri'], ['Mamostong Kangri', 'Sia Kangri'], ['Langtang Lirung', 'Chogolisa'], ['Cho Oyu', 'Labuche Kang'], ['Teram Kangri III', 'Gangkhar Puensum'], ['Ismoil Somoni Peak', 'Trivor'], ['Dhaulagiri V', 'Abi Gamin'], ['Shispare', 'Teram Kangri I'], ['Nangpai Gosum', 'Lhotse'], ['Siguang Ri', 'Langtang Ri'], ['Makalu', 'Gangapurna'], ['Nuptse', 'Molamenqing'], ['Khunyang Chhish', 'Chomo Lonzo'], ['Jongsong Peak', 'K2'], ['K12', 'Muztagh Tower'], ['Kongur Tagh', 'Yutmaru Sar'], ['Annapurna III', 'Baltoro Kangri'], ['Manaslu', 'Dhaulagiri II'], ['Batura Sar', 'Haramosh Peak'], ['Sherpi Kangri', 'Karjiang'], ['Namcha Barwa', 'Lupghar Sar'], ['Tirich Mir', 'Tongshanjiabu[19]'], ['Chongtar', 'Kirat Chuli'], ['Diran', 'Rimo I'], ['Gurla Mandhata', 'Himalchuli'], ['Passu Sar', 'Singhi Kangri'], ['Ngadi Chuli', 'Yukshin Gardan Sar'], ['Gyachung Kang', 'Nanda Devi'], ['Broad Peak', 'Dhaulagiri IV'], ['Kabru N', 'Distaghil Sar'], ['Rimo III', 'Malangutti Sar'], ['Nanga Parbat', 'Chamlang'], ['Istor-o-Nal', 'Putha Hiunchuli'], ['Saser Kangri III', 'Saser Kangri II E'], ['Changtse', 'Kamet'], ['Talung', 'Saraghrar'], ['Kongur Tiube']]\n"
     ]
    }
   ],
   "source": [
    "def divide_mountain_names(mountain_names):\n",
    "\n",
    "    \"\"\"\n",
    "    Divide mountain names into separate groups.\n",
    "\n",
    "    Args:\n",
    "        mountain_names (list): A list of mountain names and their synonyms.\n",
    "\n",
    "    Returns:\n",
    "        list: A list of grouped mountain names.\n",
    "    \"\"\"\n",
    "\n",
    "    separate_mountains = [] # List to hold mountains that have synonyms (treated as separate groups)\n",
    "    grouped_mountains = [] # List to hold groups of mountains without synonyms\n",
    "    current_group = [] # Temporary list to create groups of 2-4 mountains\n",
    "\n",
    "    # Shuffle the list to introduce randomness in grouping\n",
    "    random.shuffle(mountain_names)\n",
    "\n",
    "    for names in mountain_names:\n",
    "        if len(names) >= 2:\n",
    "            # If the mountain has synonyms, add it directly to separate_mountains\n",
    "            separate_mountains.append(names)\n",
    "        else:\n",
    "            # If the mountain does not have synonyms, add it to the current group\n",
    "            current_group.extend(names)\n",
    "            # Once the current group has between 2 to 4 mountains, add it to grouped_mountains\n",
    "            if 2 <= len(current_group) <= 4:\n",
    "                grouped_mountains.append(current_group)\n",
    "                current_group = []\n",
    "    \n",
    "    # If there are remaining mountains in the current group, add them as a group\n",
    "    if current_group:\n",
    "        grouped_mountains.append(current_group)\n",
    "    \n",
    "    return separate_mountains + grouped_mountains\n",
    "\n",
    "divided_mountain_names = divide_mountain_names(mountain_names)\n",
    "print(divided_mountain_names)"
   ]
  },
  {
   "cell_type": "markdown",
   "metadata": {},
   "source": [
    "## 5. Copy groups to clipboard"
   ]
  },
  {
   "cell_type": "code",
   "execution_count": 10,
   "metadata": {},
   "outputs": [
    {
     "name": "stdout",
     "output_type": "stream",
     "text": [
      "Groups of mountains have been copied to the clipboard.\n"
     ]
    }
   ],
   "source": [
    "# Convert the groups into a readable format and copy them to the clipboard for easy access\n",
    "groups_string = json.dumps(divided_mountain_names, indent=4)\n",
    "pyperclip.copy(groups_string)\n",
    "print(\"Groups of mountains have been copied to the clipboard.\")"
   ]
  },
  {
   "cell_type": "markdown",
   "metadata": {},
   "source": [
    "## 6. Generate texts with mountain names using ChatGPT\n",
    "\n",
    "To generate textual data containing mountain names for Named Entity Recognition (NER) model training, we used ChatGPT with a specific prompt structure. The objective is to create sentences where each mountain name appears at the beginning, middle, and end of the text.\n",
    "### Steps:\n",
    "1. **Define the Prompt**:\n",
    "   First, the mountain groups (which include both names and synonyms) were copied and sent to ChatGPT using the following prompt:\n",
    "\n",
    "   \"Write short texts about mountains. They are divided into groups, some groups contain mountain names and their synonyms, some groups contain random mountains from 2 to 4 in a group. You need to make the following texts:\n",
    "\n",
    "   They must necessarily contain the names of all the mountains in the group.\n",
    "   The text must be the most ordinary, without any markings, lists, etc., the most ordinary text, separated by line breaks.\n",
    "   For each group of names, you need to make as many texts as will satisfy the condition: each name must appear at the beginning, in the middle of the text, and at the end.\n",
    "\n",
    "   For example, the group: ['Mount Everest', 'Sagarmath', 'Chomolungma'].\n",
    "   For it, you need to make three sentences:\n",
    "\n",
    "   1. In which Mount Everest is at the beginning, Sagarmath is in the middle, Chomolungma is at the end.\n",
    "   2. Chomolungma is at the beginning, Mount Everest is in the middle, Sagarmath is at the end.\n",
    "   3. Sagarmath - at the beginning, Chomolungma - in the middle, Mount Everest - at the end.\n",
    "\n",
    "   That's it, three will be enough. These are texts, or rather sentences, for training the NER model, so it needs to be able to identify any name anywhere in the text.\"\n",
    "\n",
    "2. **Generate the Texts**:\n",
    "\n",
    "   The response from ChatGPT provided multiple sentences for each group of mountain names, ensuring that each mountain appears in different positions (beginning, middle, and end) within the sentence.\n",
    "\n",
    "3. **Saving the Generated Text**:\n",
    "\n",
    "   Once all the texts were generated, they were copied and saved into a text file. This data will be used for further processing or model training.\n",
    "   Save the generated texts in a file named \"generated_mountain_sentences.txt\"."
   ]
  },
  {
   "cell_type": "markdown",
   "metadata": {},
   "source": [
    "## 7. Load generated mountain sentences"
   ]
  },
  {
   "cell_type": "code",
   "execution_count": 11,
   "metadata": {},
   "outputs": [
    {
     "name": "stdout",
     "output_type": "stream",
     "text": [
      "['Jengish Chokusu stands tall in the Tien Shan range, with Tömür as its other name, and Pik Pobedy is another towering peak in the same area.  \\n', 'Tömür is also known for its majesty, often overshadowed by Jengish Chokusu, but Pik Pobedy stands equal to them all.  \\n', 'Pik Pobedy is a striking mountain, sharing the same legacy as Jengish Chokusu and Tömür.\\n', '\\n', 'Labuche Kang III is a prominent peak, while Labuche Kang East is equally impressive in its beauty.  \\n', 'Labuche Kang East rises alongside Labuche Kang III, both mountains being key features of the Tibetan landscape.\\n', '\\n', 'Baintha Brakk is often referred to as The Ogre due to its challenging ascent.  \\n', 'The Ogre, or Baintha Brakk, is known for its steep, jagged peaks.\\n', '\\n', 'Gasherbrum IV, also called K3, is one of the most difficult mountains to climb.  \\n', 'K3, or Gasherbrum IV, towers over the surrounding landscape with its icy ridges.\\n', '\\n', 'Kangphu Kang and Shimokangri rise majestically in the Himalayas, each with their own unique challenges.  \\n', 'Shimokangri stands close to Kangphu Kang, both mountains offering awe-inspiring views.\\n', '\\n', 'Gimmigela Chuli, known for its double peaks, is also called The Twins due to its unique shape.  \\n', 'The Twins, or Gimmigela Chuli, is a stunning mountain with a distinctive presence.\\n', '\\n', 'Gasherbrum III, often referred to as K3a, is part of the Karakoram range and offers a formidable climb.  \\n', 'K3a, another name for Gasherbrum III, stands tall among its neighboring peaks.\\n', '\\n', 'Noijin Kangsang, also known as Norin Kang, is one of the highest mountains in Tibet.  \\n', 'Norin Kang, or Noijin Kangsang, is a striking feature of the Tibetan plateau.\\n', '\\n', 'Masherbrum, often called K1, is one of the highest peaks in the Karakoram range.  \\n', 'K1, also known as Masherbrum, offers a challenging climb for mountaineers.\\n', '\\n', 'Yangra, also called Ganesh I, is a sacred peak in the Nepalese Himalayas.  \\n', 'Ganesh I, or Yangra, holds religious significance for the local population.\\n', '\\n', 'Jomolhari, also known as Chomo Lhari, is a sacred mountain in Bhutan.  \\n', 'Chomo Lhari, or Jomolhari, is renowned for its beauty and religious importance.\\n', '\\n', 'Gongga Shan, sometimes referred to as Minya Konka, is a massive peak in Sichuan province.  \\n', 'Minya Konka, also known as Gongga Shan, towers over the surrounding area with its vast glaciers.\\n', '\\n', 'Shishapangma, also known as Gosainthan, is the fourteenth highest mountain in the world.  \\n', 'Gosainthan, or Shishapangma, stands alone as the only 8,000-meter peak entirely within Tibet.\\n', '\\n', 'The Crown, or Huang Guan Shan, is a dramatic mountain in the Karakoram range.  \\n', 'Huang Guan Shan, also known as The Crown, offers stunning views and a challenging climb.\\n', '\\n', 'Kangpenqing is a beautiful mountain, also known as Gang Benchhen.  \\n', 'Gang Benchhen, or Kangpenqing, is a striking presence in the Tibetan landscape.\\n', '\\n', 'Saltoro Kangri, often called K10, is a high and rugged peak in the Karakoram range.  \\n', 'K10, also known as Saltoro Kangri, is a formidable mountain for climbers seeking adventure.\\n', '\\n', 'Gasherbrum II, also called K4, is one of the most iconic mountains in the Karakoram range.  \\n', 'K4, another name for Gasherbrum II, offers breathtaking views of the surrounding glaciers.\\n', '\\n', 'K6, also known as Baltistan Peak, is a striking feature of the Karakoram range.  \\n', 'Baltistan Peak, or K6, stands tall as one of the prominent peaks in northern Pakistan.\\n', '\\n', 'Mount Everest, also called Sagarmath in Nepal, is the tallest mountain in the world, while Chomolungma is its Tibetan name.  \\n', 'Chomolungma, the Tibetan name for Mount Everest, stands as the highest point on Earth, with Sagarmath being another of its famous names.  \\n', 'Sagarmath, known to the world as Mount Everest, towers above all others, with Chomolungma being the Tibetan name for this great peak.\\n', '\\n', 'Sunanda Devi, also known as Nanda Devi East, is a prominent mountain in the Indian Himalayas.  \\n', 'Nanda Devi East, or Sunanda Devi, is a revered peak that offers stunning views.\\n', '\\n', 'Gasherbrum I, sometimes referred to as Hidden Peak or K5, is the eleventh highest mountain in the world.  \\n', 'Hidden Peak, also known as Gasherbrum I or K5, is one of the tallest and most difficult mountains to climb.  \\n', 'K5, also called Gasherbrum I or Hidden Peak, is a towering presence in the Karakoram range.\\n', '\\n', 'Saser Kangri I, also known as K22, is a prominent peak in the eastern Karakoram.  \\n', 'K22, or Saser Kangri I, is one of the highest mountains in India, offering a challenging ascent.\\n', '\\n', 'Kumbhakarna, also called Jannu, is a massive mountain in the Nepalese Himalayas.  \\n', 'Jannu, or Kumbhakarna, is known for its steep and dramatic ridges, making it a favorite among climbers.\\n', '\\n', 'Rimo I is a majestic peak in the Karakoram range, while Langtang Ri stands tall in the Himalayas.  \\n', 'Langtang Ri, alongside Rimo I, offers breathtaking views of the surrounding mountain ranges.\\n', '\\n', 'Nanda Devi, the second-highest mountain in India, is often paired with Kirat Chuli, a nearby peak.  \\n', 'Kirat Chuli and Nanda Devi are both renowned for their beauty and difficult climbs.\\n', '\\n', 'Nanga Parbat, often called the \"Killer Mountain,\" is located near Chongtar, a lesser-known peak in the area.  \\n', 'Chongtar stands in the shadow of Nanga Parbat, one of the deadliest peaks in the world.\\n', '\\n', 'Dhaulagiri I is the seventh-highest mountain in the world, and Rakaposhi is another towering peak in the region.  \\n', 'Rakaposhi, known for its beauty, stands near the massive Dhaulagiri I.\\n', '\\n', 'Khunyang Chhish and Chogolisa are two striking peaks in the Karakoram range.  \\n', 'Chogolisa, standing alongside Khunyang Chhish, is a challenging mountain to conquer.\\n', '\\n', 'Kabru N, located near Yutmaru Sar, is a majestic peak in the Himalayas.  \\n', 'Yutmaru Sar and Kabru N are both high-altitude mountains, offering stunning views and difficult ascents.\\n', '\\n', 'Himalchuli and Ghent Kangri are both impressive mountains located in different ranges.  \\n', 'Ghent Kangri and Himalchuli are renowned for their beauty and remoteness.\\n', '\\n', 'Labuche Kang, a notable peak in Tibet, shares its name with Pumari Chhish, another high-altitude mountain.  \\n', 'Pumari Chhish, alongside Labuche Kang, dominates the skyline with its massive presence.\\n', '\\n', 'Singhi Kangri and Saser Kangri III are two remarkable peaks in the Karakoram range.  \\n', 'Saser Kangri III, along with Singhi Kangri, offers a formidable challenge for mountaineers.\\n', '\\n', 'Gurla Mandhata, located in Tibet, is often compared to Kongur Tiube, a neighboring peak.  \\n', 'Kongur Tiube stands near Gurla Mandhata, both peaks dominating the surrounding landscape.\\n', '\\n', 'Gangapurna, one of the tallest peaks in the Annapurna range, is paired with Langtang Lirung, a Himalayan giant.  \\n', 'Langtang Lirung, rising alongside Gangapurna, offers breathtaking vistas and steep ridges.\\n', '\\n', 'Kangchenjunga, the third-highest mountain in the world, is located near Malangutti Sar.  \\n', 'Malangutti Sar stands close to Kangchenjunga, both peaks being key features of the eastern Himalayas.\\n', '\\n', 'Rimo III and Talung are two significant peaks, both offering challenging climbs.  \\n', 'Talung, along with Rimo III, stands tall as a major mountain in its range.\\n', '\\n', 'Chomo Lonzo, near the Tibetan border, is often compared to Ismoil Somoni Peak.  \\n', 'Ismoil Somoni Peak, rising alongside Chomo Lonzo, is one of the tallest mountains in its region.\\n', '\\n', 'Yukshin Gardan Sar, a high peak in Pakistan, stands near Saraghrar, another formidable mountain.  \\n', 'Saraghrar and Yukshin Gardan Sar are both known for their rugged beauty and difficult ascents.\\n', '\\n', 'Noshaq, the highest mountain in Afghanistan, is paired with Cho Oyu, one of the 8,000-meter giants.  \\n', 'Cho Oyu and Noshaq stand tall, offering awe-inspiring views and challenging climbs.\\n', '\\n', 'Teram Kangri I and Gangkhar Puensum are two significant peaks in the Himalayas.  \\n', \"Gangkhar Puensum, along with Teram Kangri I, remains one of the world's highest unclimbed mountains.\\n\", '\\n', 'Diran, located in the Karakoram, is paired with Skil Brum, a lesser-known but impressive peak.  \\n', 'Skil Brum, alongside Diran, offers challenging routes for climbers.\\n', '\\n', 'Lhotse, the fourth-highest mountain in the world, stands near Annapurna Dakshin, also known as Annapurna South.  \\n', 'Annapurna Dakshin, located close to Lhotse, is one of the most striking peaks in the Annapurna range.\\n', '\\n', 'Nangpai Gosum, a lesser-known peak in Tibet, is located near Tirich Mir, the highest mountain in the Hindu Kush range.  \\n', 'Tirich Mir, towering over Nangpai Gosum, is the highest peak outside the Himalayas.\\n', '\\n', 'Mukut Parbat, a striking mountain in the Indian Himalayas, is located near Namcha Barwa, a formidable peak in Tibet.  \\n', 'Namcha Barwa and Mukut Parbat are both known for their challenging terrains and breathtaking views.\\n', '\\n', 'Muztagh Tower and Skyang Kangri are two rugged peaks in the Karakoram range.  \\n', 'Skyang Kangri, along with Muztagh Tower, stands as a testament to the beauty and difficulty of the Karakoram.\\n', '\\n', 'Broad Peak, an 8,000-meter giant, is located near Dhaulagiri II, another prominent mountain in the region.  \\n', 'Dhaulagiri II stands near Broad Peak, both offering challenging ascents and breathtaking vistas.\\n', '\\n', 'Kongur Tagh and Annapurna II are two significant peaks, both offering difficult climbs.  \\n', 'Annapurna II, standing alongside Kongur Tagh, is one of the highest mountains in the Annapurna range.\\n', '\\n', 'Dhaulagiri IV, part of the Dhaulagiri massif, stands near Lupghar Sar, another towering peak in the Karakoram range.  \\n', 'Lupghar Sar and Dhaulagiri IV are both known for their challenging routes and majestic views.\\n', '\\n', 'Makalu, the fifth-highest mountain in the world, is located near Chamlang, another stunning peak in the Himalayas.  \\n', 'Chamlang, with its distinctive shape, stands near Makalu, both peaks dominating the region.\\n', '\\n', 'Momhil Sar and Sherpi Kangri are two impressive peaks in the Karakoram range, known for their rugged beauty.  \\n', 'Sherpi Kangri, along with Momhil Sar, offers breathtaking views and a challenging climb for experienced mountaineers.\\n', '\\n', 'Haramosh Peak and Baltoro Kangri are two iconic peaks in the Karakoram, offering tough yet rewarding climbs.  \\n', 'Baltoro Kangri, standing alongside Haramosh Peak, is a sight to behold in the vast Karakoram landscape.\\n', '\\n', 'Ngadi Chuli, also known as Peak 29, is located near Mana Peak in the Nepalese Himalayas.  \\n', 'Mana Peak stands near Ngadi Chuli, both peaks forming a stunning part of the Himalayan skyline.\\n', '\\n', 'Siguang Ri and Trivor are two remote mountains, both offering difficult and less-traveled routes.  \\n', 'Trivor, located near Siguang Ri, is known for its rugged terrain and steep ascents.\\n', '\\n', 'Batura Sar, a prominent peak in the Karakoram range, is located near Molamenqing, another majestic mountain.  \\n', 'Molamenqing, standing tall next to Batura Sar, offers climbers a challenging but rewarding experience.\\n', '\\n', 'Putha Hiunchuli, one of the highest peaks in Nepal, stands near Kanjut Sar, a beautiful peak in the Karakoram.  \\n', 'Kanjut Sar, located near Putha Hiunchuli, is known for its striking ridges and icy slopes.\\n', '\\n', 'Nuptse, a close neighbor of Mount Everest, stands alongside Muztagh Ata, a massive peak in the Pamirs.  \\n', 'Muztagh Ata and Nuptse are two towering giants that attract climbers from around the world.\\n', '\\n', 'K12, a rugged mountain in the Karakoram, is paired with Kamet, one of the highest peaks in India.  \\n', 'Kamet stands proudly near K12, both mountains offering awe-inspiring views of the surrounding landscapes.\\n', '\\n', 'Dhaulagiri V, part of the Dhaulagiri range, is located near Gyala Peri, a striking peak in Tibet.  \\n', 'Gyala Peri, standing near Dhaulagiri V, is a dominant peak in the Eastern Himalayas.\\n', '\\n', 'Sia Kangri and Gyachung Kang are two towering peaks located in different ranges, both offering stunning climbs.  \\n', 'Gyachung Kang, alongside Sia Kangri, is a key feature of the Himalayan and Karakoram landscapes.\\n', '\\n', 'Dhaulagiri VI, the sixth peak in the Dhaulagiri massif, stands near Karjiang, a lesser-known but challenging mountain.  \\n', 'Karjiang rises near Dhaulagiri VI, both peaks offering climbers unique challenges and spectacular views.\\n', '\\n', 'Annapurna III, part of the Annapurna range, is located near Manaslu, the eighth-highest mountain in the world.  \\n', 'Manaslu, towering next to Annapurna III, is one of the most majestic peaks in the Himalayas.\\n', '\\n', 'Mamostong Kangri and Malubiting are two rugged peaks located in different ranges, each offering their own challenges.  \\n', 'Malubiting and Mamostong Kangri stand tall in their respective ranges, offering breathtaking vistas.\\n', '\\n', 'Annapurna IV, another peak in the Annapurna massif, is located near Changtse, a significant mountain in the Everest region.  \\n', 'Changtse rises near Annapurna IV, both mountains being key features of the Himalayan landscape.\\n', '\\n', 'Passu Sar and Kula Kangri are two significant peaks located in different ranges, both known for their challenging ascents.  \\n', 'Kula Kangri stands near Passu Sar, offering climbers dramatic views and tough routes.\\n', '\\n', 'Jongsong Peak, located on the India-Nepal border, is near Istor-o-Nal, a stunning peak in the Hindu Kush.  \\n', 'Istor-o-Nal and Jongsong Peak are both known for their rugged beauty and remote locations.\\n', '\\n', 'K2, the second-highest mountain in the world, is located near Khartaphu, a lesser-known peak in the region.  \\n', 'Khartaphu stands in the shadow of K2, both peaks offering extreme challenges for mountaineers.\\n', '\\n', 'Porong Ri, a striking peak in Tibet, is located near Shispare, a beautiful mountain in the Karakoram range.  \\n', 'Shispare, standing near Porong Ri, is known for its steep ridges and icy slopes.\\n', '\\n', 'Annapurna I, the highest peak in the Annapurna range, is located near Churen Himal, another significant peak.  \\n', 'Churen Himal rises near Annapurna I, both mountains offering tough climbs and stunning views.\\n', '\\n', 'Teram Kangri III, a peak in the Karakoram range, is located near Ultar, a high and challenging mountain.  \\n', 'Ultar stands alongside Teram Kangri III, both peaks offering breathtaking views and difficult climbs.\\n', '\\n', 'Apsarasas Kangri, one of the highest peaks in the Karakoram, is located near Saser Kangri II E, another major peak.  \\n', 'Saser Kangri II E, rising near Apsarasas Kangri, is known for its remote location and extreme climbing conditions.\\n', '\\n', 'Abi Gamin, a prominent peak in India, is located near Tongshanjiabu, a remote mountain on the Bhutan-Tibet border.  \\n', 'Tongshanjiabu rises near Abi Gamin, both peaks offering unique and less-traveled routes for mountaineers.\\n', '\\n', 'Distaghil Sar, one of the tallest peaks in the Karakoram, is known for its rugged and imposing presence.  \\n', 'Distaghil Sar stands alone as a formidable challenge for climbers seeking adventure in the remote Karakoram range.']\n"
     ]
    }
   ],
   "source": [
    "# Load the generated mountain sentences that will be used for annotation\n",
    "generated_sentences_path = \"../data/raw_data/generated_mountain_sentences.txt\"\n",
    "with open(generated_sentences_path, 'r', encoding=\"utf-8\") as file:\n",
    "    generated_sentences = file.readlines()\n",
    "\n",
    "print(generated_sentences)"
   ]
  },
  {
   "cell_type": "markdown",
   "metadata": {},
   "source": [
    "## 8. Annotate texts automatically with mountain names"
   ]
  },
  {
   "cell_type": "code",
   "execution_count": 12,
   "metadata": {},
   "outputs": [
    {
     "name": "stdout",
     "output_type": "stream",
     "text": [
      "[{'tokens': ['Jengish', 'Chokusu', 'stands', 'tall', 'in', 'the', 'Tien', 'Shan', 'range', ',', 'with', 'Tömür', 'as', 'its', 'other', 'name', ',', 'and', 'Pik', 'Pobedy', 'is', 'another', 'towering', 'peak', 'in', 'the', 'same', 'area', '.'], 'labels': ['B-MOUNTAIN_NAME', 'I-MOUNTAIN_NAME', 'O', 'O', 'O', 'O', 'O', 'O', 'O', 'O', 'O', 'B-MOUNTAIN_NAME', 'O', 'O', 'O', 'O', 'O', 'O', 'B-MOUNTAIN_NAME', 'I-MOUNTAIN_NAME', 'O', 'O', 'O', 'O', 'O', 'O', 'O', 'O', 'O']}, {'tokens': ['Tömür', 'is', 'also', 'known', 'for', 'its', 'majesty', ',', 'often', 'overshadowed', 'by', 'Jengish', 'Chokusu', ',', 'but', 'Pik', 'Pobedy', 'stands', 'equal', 'to', 'them', 'all', '.'], 'labels': ['B-MOUNTAIN_NAME', 'O', 'O', 'O', 'O', 'O', 'O', 'O', 'O', 'O', 'O', 'B-MOUNTAIN_NAME', 'I-MOUNTAIN_NAME', 'O', 'O', 'B-MOUNTAIN_NAME', 'I-MOUNTAIN_NAME', 'O', 'O', 'O', 'O', 'O', 'O']}, {'tokens': ['Pik', 'Pobedy', 'is', 'a', 'striking', 'mountain', ',', 'sharing', 'the', 'same', 'legacy', 'as', 'Jengish', 'Chokusu', 'and', 'Tömür', '.'], 'labels': ['B-MOUNTAIN_NAME', 'I-MOUNTAIN_NAME', 'O', 'O', 'O', 'O', 'O', 'O', 'O', 'O', 'O', 'O', 'B-MOUNTAIN_NAME', 'I-MOUNTAIN_NAME', 'O', 'B-MOUNTAIN_NAME', 'O']}, {'tokens': ['Labuche', 'Kang', 'III', 'is', 'a', 'prominent', 'peak', ',', 'while', 'Labuche', 'Kang', 'East', 'is', 'equally', 'impressive', 'in', 'its', 'beauty', '.'], 'labels': ['B-MOUNTAIN_NAME', 'I-MOUNTAIN_NAME', 'I-MOUNTAIN_NAME', 'O', 'O', 'O', 'O', 'O', 'O', 'B-MOUNTAIN_NAME', 'I-MOUNTAIN_NAME', 'I-MOUNTAIN_NAME', 'O', 'O', 'O', 'O', 'O', 'O', 'O']}, {'tokens': ['Labuche', 'Kang', 'East', 'rises', 'alongside', 'Labuche', 'Kang', 'III', ',', 'both', 'mountains', 'being', 'key', 'features', 'of', 'the', 'Tibetan', 'landscape', '.'], 'labels': ['B-MOUNTAIN_NAME', 'I-MOUNTAIN_NAME', 'I-MOUNTAIN_NAME', 'O', 'O', 'B-MOUNTAIN_NAME', 'I-MOUNTAIN_NAME', 'I-MOUNTAIN_NAME', 'O', 'O', 'O', 'O', 'O', 'O', 'O', 'O', 'O', 'O', 'O']}, {'tokens': ['Baintha', 'Brakk', 'is', 'often', 'referred', 'to', 'as', 'The', 'Ogre', 'due', 'to', 'its', 'challenging', 'ascent', '.'], 'labels': ['B-MOUNTAIN_NAME', 'I-MOUNTAIN_NAME', 'O', 'O', 'O', 'O', 'O', 'B-MOUNTAIN_NAME', 'I-MOUNTAIN_NAME', 'O', 'O', 'O', 'O', 'O', 'O']}, {'tokens': ['The', 'Ogre', ',', 'or', 'Baintha', 'Brakk', ',', 'is', 'known', 'for', 'its', 'steep', ',', 'jagged', 'peaks', '.'], 'labels': ['B-MOUNTAIN_NAME', 'I-MOUNTAIN_NAME', 'O', 'O', 'B-MOUNTAIN_NAME', 'I-MOUNTAIN_NAME', 'O', 'O', 'O', 'O', 'O', 'O', 'O', 'O', 'O', 'O']}, {'tokens': ['Gasherbrum', 'IV', ',', 'also', 'called', 'K3', ',', 'is', 'one', 'of', 'the', 'most', 'difficult', 'mountains', 'to', 'climb', '.'], 'labels': ['B-MOUNTAIN_NAME', 'I-MOUNTAIN_NAME', 'O', 'O', 'O', 'B-MOUNTAIN_NAME', 'O', 'O', 'O', 'O', 'O', 'O', 'O', 'O', 'O', 'O', 'O']}, {'tokens': ['K3', ',', 'or', 'Gasherbrum', 'IV', ',', 'towers', 'over', 'the', 'surrounding', 'landscape', 'with', 'its', 'icy', 'ridges', '.'], 'labels': ['B-MOUNTAIN_NAME', 'O', 'O', 'B-MOUNTAIN_NAME', 'I-MOUNTAIN_NAME', 'O', 'O', 'O', 'O', 'O', 'O', 'O', 'O', 'O', 'O', 'O']}, {'tokens': ['Kangphu', 'Kang', 'and', 'Shimokangri', 'rise', 'majestically', 'in', 'the', 'Himalayas', ',', 'each', 'with', 'their', 'own', 'unique', 'challenges', '.'], 'labels': ['B-MOUNTAIN_NAME', 'I-MOUNTAIN_NAME', 'O', 'B-MOUNTAIN_NAME', 'O', 'O', 'O', 'O', 'O', 'O', 'O', 'O', 'O', 'O', 'O', 'O', 'O']}, {'tokens': ['Shimokangri', 'stands', 'close', 'to', 'Kangphu', 'Kang', ',', 'both', 'mountains', 'offering', 'awe', 'inspiring', 'views', '.'], 'labels': ['B-MOUNTAIN_NAME', 'O', 'O', 'O', 'B-MOUNTAIN_NAME', 'I-MOUNTAIN_NAME', 'O', 'O', 'O', 'O', 'O', 'O', 'O', 'O']}, {'tokens': ['Gimmigela', 'Chuli', ',', 'known', 'for', 'its', 'double', 'peaks', ',', 'is', 'also', 'called', 'The', 'Twins', 'due', 'to', 'its', 'unique', 'shape', '.'], 'labels': ['B-MOUNTAIN_NAME', 'I-MOUNTAIN_NAME', 'O', 'O', 'O', 'O', 'O', 'O', 'O', 'O', 'O', 'O', 'B-MOUNTAIN_NAME', 'I-MOUNTAIN_NAME', 'O', 'O', 'O', 'O', 'O', 'O']}, {'tokens': ['The', 'Twins', ',', 'or', 'Gimmigela', 'Chuli', ',', 'is', 'a', 'stunning', 'mountain', 'with', 'a', 'distinctive', 'presence', '.'], 'labels': ['B-MOUNTAIN_NAME', 'I-MOUNTAIN_NAME', 'O', 'O', 'B-MOUNTAIN_NAME', 'I-MOUNTAIN_NAME', 'O', 'O', 'O', 'O', 'O', 'O', 'O', 'O', 'O', 'O']}, {'tokens': ['Gasherbrum', 'III', ',', 'often', 'referred', 'to', 'as', 'K3a', ',', 'is', 'part', 'of', 'the', 'Karakoram', 'range', 'and', 'offers', 'a', 'formidable', 'climb', '.'], 'labels': ['B-MOUNTAIN_NAME', 'I-MOUNTAIN_NAME', 'O', 'O', 'O', 'O', 'O', 'B-MOUNTAIN_NAME', 'O', 'O', 'O', 'O', 'O', 'O', 'O', 'O', 'O', 'O', 'O', 'O', 'O']}, {'tokens': ['K3a', ',', 'another', 'name', 'for', 'Gasherbrum', 'III', ',', 'stands', 'tall', 'among', 'its', 'neighboring', 'peaks', '.'], 'labels': ['B-MOUNTAIN_NAME', 'O', 'O', 'O', 'O', 'B-MOUNTAIN_NAME', 'I-MOUNTAIN_NAME', 'O', 'O', 'O', 'O', 'O', 'O', 'O', 'O']}, {'tokens': ['Noijin', 'Kangsang', ',', 'also', 'known', 'as', 'Norin', 'Kang', ',', 'is', 'one', 'of', 'the', 'highest', 'mountains', 'in', 'Tibet', '.'], 'labels': ['B-MOUNTAIN_NAME', 'I-MOUNTAIN_NAME', 'O', 'O', 'O', 'O', 'B-MOUNTAIN_NAME', 'I-MOUNTAIN_NAME', 'O', 'O', 'O', 'O', 'O', 'O', 'O', 'O', 'O', 'O']}, {'tokens': ['Norin', 'Kang', ',', 'or', 'Noijin', 'Kangsang', ',', 'is', 'a', 'striking', 'feature', 'of', 'the', 'Tibetan', 'plateau', '.'], 'labels': ['B-MOUNTAIN_NAME', 'I-MOUNTAIN_NAME', 'O', 'O', 'B-MOUNTAIN_NAME', 'I-MOUNTAIN_NAME', 'O', 'O', 'O', 'O', 'O', 'O', 'O', 'O', 'O', 'O']}, {'tokens': ['Masherbrum', ',', 'often', 'called', 'K1', ',', 'is', 'one', 'of', 'the', 'highest', 'peaks', 'in', 'the', 'Karakoram', 'range', '.'], 'labels': ['B-MOUNTAIN_NAME', 'O', 'O', 'O', 'B-MOUNTAIN_NAME', 'O', 'O', 'O', 'O', 'O', 'O', 'O', 'O', 'O', 'O', 'O', 'O']}, {'tokens': ['K1', ',', 'also', 'known', 'as', 'Masherbrum', ',', 'offers', 'a', 'challenging', 'climb', 'for', 'mountaineers', '.'], 'labels': ['B-MOUNTAIN_NAME', 'O', 'O', 'O', 'O', 'B-MOUNTAIN_NAME', 'O', 'O', 'O', 'O', 'O', 'O', 'O', 'O']}, {'tokens': ['Yangra', ',', 'also', 'called', 'Ganesh', 'I', ',', 'is', 'a', 'sacred', 'peak', 'in', 'the', 'Nepalese', 'Himalayas', '.'], 'labels': ['B-MOUNTAIN_NAME', 'O', 'O', 'O', 'B-MOUNTAIN_NAME', 'I-MOUNTAIN_NAME', 'O', 'O', 'O', 'O', 'O', 'O', 'O', 'O', 'O', 'O']}, {'tokens': ['Ganesh', 'I', ',', 'or', 'Yangra', ',', 'holds', 'religious', 'significance', 'for', 'the', 'local', 'population', '.'], 'labels': ['B-MOUNTAIN_NAME', 'I-MOUNTAIN_NAME', 'O', 'O', 'B-MOUNTAIN_NAME', 'O', 'O', 'O', 'O', 'O', 'O', 'O', 'O', 'O']}, {'tokens': ['Jomolhari', ',', 'also', 'known', 'as', 'Chomo', 'Lhari', ',', 'is', 'a', 'sacred', 'mountain', 'in', 'Bhutan', '.'], 'labels': ['B-MOUNTAIN_NAME', 'O', 'O', 'O', 'O', 'B-MOUNTAIN_NAME', 'I-MOUNTAIN_NAME', 'O', 'O', 'O', 'O', 'O', 'O', 'O', 'O']}, {'tokens': ['Chomo', 'Lhari', ',', 'or', 'Jomolhari', ',', 'is', 'renowned', 'for', 'its', 'beauty', 'and', 'religious', 'importance', '.'], 'labels': ['B-MOUNTAIN_NAME', 'I-MOUNTAIN_NAME', 'O', 'O', 'B-MOUNTAIN_NAME', 'O', 'O', 'O', 'O', 'O', 'O', 'O', 'O', 'O', 'O']}, {'tokens': ['Gongga', 'Shan', ',', 'sometimes', 'referred', 'to', 'as', 'Minya', 'Konka', ',', 'is', 'a', 'massive', 'peak', 'in', 'Sichuan', 'province', '.'], 'labels': ['B-MOUNTAIN_NAME', 'I-MOUNTAIN_NAME', 'O', 'O', 'O', 'O', 'O', 'B-MOUNTAIN_NAME', 'I-MOUNTAIN_NAME', 'O', 'O', 'O', 'O', 'O', 'O', 'O', 'O', 'O']}, {'tokens': ['Minya', 'Konka', ',', 'also', 'known', 'as', 'Gongga', 'Shan', ',', 'towers', 'over', 'the', 'surrounding', 'area', 'with', 'its', 'vast', 'glaciers', '.'], 'labels': ['B-MOUNTAIN_NAME', 'I-MOUNTAIN_NAME', 'O', 'O', 'O', 'O', 'B-MOUNTAIN_NAME', 'I-MOUNTAIN_NAME', 'O', 'O', 'O', 'O', 'O', 'O', 'O', 'O', 'O', 'O', 'O']}, {'tokens': ['Shishapangma', ',', 'also', 'known', 'as', 'Gosainthan', ',', 'is', 'the', 'fourteenth', 'highest', 'mountain', 'in', 'the', 'world', '.'], 'labels': ['B-MOUNTAIN_NAME', 'O', 'O', 'O', 'O', 'B-MOUNTAIN_NAME', 'O', 'O', 'O', 'O', 'O', 'O', 'O', 'O', 'O', 'O']}, {'tokens': ['Gosainthan', ',', 'or', 'Shishapangma', ',', 'stands', 'alone', 'as', 'the', 'only', '8', ',', '000', 'meter', 'peak', 'entirely', 'within', 'Tibet', '.'], 'labels': ['B-MOUNTAIN_NAME', 'O', 'O', 'B-MOUNTAIN_NAME', 'O', 'O', 'O', 'O', 'O', 'O', 'O', 'O', 'O', 'O', 'O', 'O', 'O', 'O', 'O']}, {'tokens': ['The', 'Crown', ',', 'or', 'Huang', 'Guan', 'Shan', ',', 'is', 'a', 'dramatic', 'mountain', 'in', 'the', 'Karakoram', 'range', '.'], 'labels': ['B-MOUNTAIN_NAME', 'I-MOUNTAIN_NAME', 'O', 'O', 'B-MOUNTAIN_NAME', 'I-MOUNTAIN_NAME', 'I-MOUNTAIN_NAME', 'O', 'O', 'O', 'O', 'O', 'O', 'O', 'O', 'O', 'O']}, {'tokens': ['Huang', 'Guan', 'Shan', ',', 'also', 'known', 'as', 'The', 'Crown', ',', 'offers', 'stunning', 'views', 'and', 'a', 'challenging', 'climb', '.'], 'labels': ['B-MOUNTAIN_NAME', 'I-MOUNTAIN_NAME', 'I-MOUNTAIN_NAME', 'O', 'O', 'O', 'O', 'B-MOUNTAIN_NAME', 'I-MOUNTAIN_NAME', 'O', 'O', 'O', 'O', 'O', 'O', 'O', 'O', 'O']}, {'tokens': ['Kangpenqing', 'is', 'a', 'beautiful', 'mountain', ',', 'also', 'known', 'as', 'Gang', 'Benchhen', '.'], 'labels': ['B-MOUNTAIN_NAME', 'O', 'O', 'O', 'O', 'O', 'O', 'O', 'O', 'B-MOUNTAIN_NAME', 'I-MOUNTAIN_NAME', 'O']}, {'tokens': ['Gang', 'Benchhen', ',', 'or', 'Kangpenqing', ',', 'is', 'a', 'striking', 'presence', 'in', 'the', 'Tibetan', 'landscape', '.'], 'labels': ['B-MOUNTAIN_NAME', 'I-MOUNTAIN_NAME', 'O', 'O', 'B-MOUNTAIN_NAME', 'O', 'O', 'O', 'O', 'O', 'O', 'O', 'O', 'O', 'O']}, {'tokens': ['Saltoro', 'Kangri', ',', 'often', 'called', 'K10', ',', 'is', 'a', 'high', 'and', 'rugged', 'peak', 'in', 'the', 'Karakoram', 'range', '.'], 'labels': ['B-MOUNTAIN_NAME', 'I-MOUNTAIN_NAME', 'O', 'O', 'O', 'B-MOUNTAIN_NAME', 'O', 'O', 'O', 'O', 'O', 'O', 'O', 'O', 'O', 'O', 'O', 'O']}, {'tokens': ['K10', ',', 'also', 'known', 'as', 'Saltoro', 'Kangri', ',', 'is', 'a', 'formidable', 'mountain', 'for', 'climbers', 'seeking', 'adventure', '.'], 'labels': ['B-MOUNTAIN_NAME', 'O', 'O', 'O', 'O', 'B-MOUNTAIN_NAME', 'I-MOUNTAIN_NAME', 'O', 'O', 'O', 'O', 'O', 'O', 'O', 'O', 'O', 'O']}, {'tokens': ['Gasherbrum', 'II', ',', 'also', 'called', 'K4', ',', 'is', 'one', 'of', 'the', 'most', 'iconic', 'mountains', 'in', 'the', 'Karakoram', 'range', '.'], 'labels': ['B-MOUNTAIN_NAME', 'I-MOUNTAIN_NAME', 'O', 'O', 'O', 'B-MOUNTAIN_NAME', 'O', 'O', 'O', 'O', 'O', 'O', 'O', 'O', 'O', 'O', 'O', 'O', 'O']}, {'tokens': ['K4', ',', 'another', 'name', 'for', 'Gasherbrum', 'II', ',', 'offers', 'breathtaking', 'views', 'of', 'the', 'surrounding', 'glaciers', '.'], 'labels': ['B-MOUNTAIN_NAME', 'O', 'O', 'O', 'O', 'B-MOUNTAIN_NAME', 'I-MOUNTAIN_NAME', 'O', 'O', 'O', 'O', 'O', 'O', 'O', 'O', 'O']}, {'tokens': ['K6', ',', 'also', 'known', 'as', 'Baltistan', 'Peak', ',', 'is', 'a', 'striking', 'feature', 'of', 'the', 'Karakoram', 'range', '.'], 'labels': ['B-MOUNTAIN_NAME', 'O', 'O', 'O', 'O', 'B-MOUNTAIN_NAME', 'I-MOUNTAIN_NAME', 'O', 'O', 'O', 'O', 'O', 'O', 'O', 'O', 'O', 'O']}, {'tokens': ['Baltistan', 'Peak', ',', 'or', 'K6', ',', 'stands', 'tall', 'as', 'one', 'of', 'the', 'prominent', 'peaks', 'in', 'northern', 'Pakistan', '.'], 'labels': ['B-MOUNTAIN_NAME', 'I-MOUNTAIN_NAME', 'O', 'O', 'B-MOUNTAIN_NAME', 'O', 'O', 'O', 'O', 'O', 'O', 'O', 'O', 'O', 'O', 'O', 'O', 'O']}, {'tokens': ['Mount', 'Everest', ',', 'also', 'called', 'Sagarmath', 'in', 'Nepal', ',', 'is', 'the', 'tallest', 'mountain', 'in', 'the', 'world', ',', 'while', 'Chomolungma', 'is', 'its', 'Tibetan', 'name', '.'], 'labels': ['B-MOUNTAIN_NAME', 'I-MOUNTAIN_NAME', 'O', 'O', 'O', 'B-MOUNTAIN_NAME', 'O', 'O', 'O', 'O', 'O', 'O', 'O', 'O', 'O', 'O', 'O', 'O', 'B-MOUNTAIN_NAME', 'O', 'O', 'O', 'O', 'O']}, {'tokens': ['Chomolungma', ',', 'the', 'Tibetan', 'name', 'for', 'Mount', 'Everest', ',', 'stands', 'as', 'the', 'highest', 'point', 'on', 'Earth', ',', 'with', 'Sagarmath', 'being', 'another', 'of', 'its', 'famous', 'names', '.'], 'labels': ['B-MOUNTAIN_NAME', 'O', 'O', 'O', 'O', 'O', 'B-MOUNTAIN_NAME', 'I-MOUNTAIN_NAME', 'O', 'O', 'O', 'O', 'O', 'O', 'O', 'O', 'O', 'O', 'B-MOUNTAIN_NAME', 'O', 'O', 'O', 'O', 'O', 'O', 'O']}, {'tokens': ['Sagarmath', ',', 'known', 'to', 'the', 'world', 'as', 'Mount', 'Everest', ',', 'towers', 'above', 'all', 'others', ',', 'with', 'Chomolungma', 'being', 'the', 'Tibetan', 'name', 'for', 'this', 'great', 'peak', '.'], 'labels': ['B-MOUNTAIN_NAME', 'O', 'O', 'O', 'O', 'O', 'O', 'B-MOUNTAIN_NAME', 'I-MOUNTAIN_NAME', 'O', 'O', 'O', 'O', 'O', 'O', 'O', 'B-MOUNTAIN_NAME', 'O', 'O', 'O', 'O', 'O', 'O', 'O', 'O', 'O']}, {'tokens': ['Sunanda', 'Devi', ',', 'also', 'known', 'as', 'Nanda', 'Devi', 'East', ',', 'is', 'a', 'prominent', 'mountain', 'in', 'the', 'Indian', 'Himalayas', '.'], 'labels': ['B-MOUNTAIN_NAME', 'I-MOUNTAIN_NAME', 'O', 'O', 'O', 'O', 'B-MOUNTAIN_NAME', 'I-MOUNTAIN_NAME', 'I-MOUNTAIN_NAME', 'O', 'O', 'O', 'O', 'O', 'O', 'O', 'O', 'O', 'O']}, {'tokens': ['Nanda', 'Devi', 'East', ',', 'or', 'Sunanda', 'Devi', ',', 'is', 'a', 'revered', 'peak', 'that', 'offers', 'stunning', 'views', '.'], 'labels': ['B-MOUNTAIN_NAME', 'I-MOUNTAIN_NAME', 'I-MOUNTAIN_NAME', 'O', 'O', 'B-MOUNTAIN_NAME', 'I-MOUNTAIN_NAME', 'O', 'O', 'O', 'O', 'O', 'O', 'O', 'O', 'O', 'O']}, {'tokens': ['Gasherbrum', 'I', ',', 'sometimes', 'referred', 'to', 'as', 'Hidden', 'Peak', 'or', 'K5', ',', 'is', 'the', 'eleventh', 'highest', 'mountain', 'in', 'the', 'world', '.'], 'labels': ['B-MOUNTAIN_NAME', 'I-MOUNTAIN_NAME', 'O', 'O', 'O', 'O', 'O', 'B-MOUNTAIN_NAME', 'I-MOUNTAIN_NAME', 'O', 'B-MOUNTAIN_NAME', 'O', 'O', 'O', 'O', 'O', 'O', 'O', 'O', 'O', 'O']}, {'tokens': ['Hidden', 'Peak', ',', 'also', 'known', 'as', 'Gasherbrum', 'I', 'or', 'K5', ',', 'is', 'one', 'of', 'the', 'tallest', 'and', 'most', 'difficult', 'mountains', 'to', 'climb', '.'], 'labels': ['B-MOUNTAIN_NAME', 'I-MOUNTAIN_NAME', 'O', 'O', 'O', 'O', 'B-MOUNTAIN_NAME', 'I-MOUNTAIN_NAME', 'O', 'B-MOUNTAIN_NAME', 'O', 'O', 'O', 'O', 'O', 'O', 'O', 'O', 'O', 'O', 'O', 'O', 'O']}, {'tokens': ['K5', ',', 'also', 'called', 'Gasherbrum', 'I', 'or', 'Hidden', 'Peak', ',', 'is', 'a', 'towering', 'presence', 'in', 'the', 'Karakoram', 'range', '.'], 'labels': ['B-MOUNTAIN_NAME', 'O', 'O', 'O', 'B-MOUNTAIN_NAME', 'I-MOUNTAIN_NAME', 'O', 'B-MOUNTAIN_NAME', 'I-MOUNTAIN_NAME', 'O', 'O', 'O', 'O', 'O', 'O', 'O', 'O', 'O', 'O']}, {'tokens': ['Saser', 'Kangri', 'I', ',', 'also', 'known', 'as', 'K22', ',', 'is', 'a', 'prominent', 'peak', 'in', 'the', 'eastern', 'Karakoram', '.'], 'labels': ['B-MOUNTAIN_NAME', 'I-MOUNTAIN_NAME', 'I-MOUNTAIN_NAME', 'O', 'O', 'O', 'O', 'B-MOUNTAIN_NAME', 'O', 'O', 'O', 'O', 'O', 'O', 'O', 'O', 'O', 'O']}, {'tokens': ['K22', ',', 'or', 'Saser', 'Kangri', 'I', ',', 'is', 'one', 'of', 'the', 'highest', 'mountains', 'in', 'India', ',', 'offering', 'a', 'challenging', 'ascent', '.'], 'labels': ['B-MOUNTAIN_NAME', 'O', 'O', 'B-MOUNTAIN_NAME', 'I-MOUNTAIN_NAME', 'I-MOUNTAIN_NAME', 'O', 'O', 'O', 'O', 'O', 'O', 'O', 'O', 'O', 'O', 'O', 'O', 'O', 'O', 'O']}, {'tokens': ['Kumbhakarna', ',', 'also', 'called', 'Jannu', ',', 'is', 'a', 'massive', 'mountain', 'in', 'the', 'Nepalese', 'Himalayas', '.'], 'labels': ['B-MOUNTAIN_NAME', 'O', 'O', 'O', 'B-MOUNTAIN_NAME', 'O', 'O', 'O', 'O', 'O', 'O', 'O', 'O', 'O', 'O']}, {'tokens': ['Jannu', ',', 'or', 'Kumbhakarna', ',', 'is', 'known', 'for', 'its', 'steep', 'and', 'dramatic', 'ridges', ',', 'making', 'it', 'a', 'favorite', 'among', 'climbers', '.'], 'labels': ['B-MOUNTAIN_NAME', 'O', 'O', 'B-MOUNTAIN_NAME', 'O', 'O', 'O', 'O', 'O', 'O', 'O', 'O', 'O', 'O', 'O', 'O', 'O', 'O', 'O', 'O', 'O']}, {'tokens': ['Rimo', 'I', 'is', 'a', 'majestic', 'peak', 'in', 'the', 'Karakoram', 'range', ',', 'while', 'Langtang', 'Ri', 'stands', 'tall', 'in', 'the', 'Himalayas', '.'], 'labels': ['B-MOUNTAIN_NAME', 'I-MOUNTAIN_NAME', 'O', 'O', 'O', 'O', 'O', 'O', 'O', 'O', 'O', 'O', 'B-MOUNTAIN_NAME', 'I-MOUNTAIN_NAME', 'O', 'O', 'O', 'O', 'O', 'O']}, {'tokens': ['Langtang', 'Ri', ',', 'alongside', 'Rimo', 'I', ',', 'offers', 'breathtaking', 'views', 'of', 'the', 'surrounding', 'mountain', 'ranges', '.'], 'labels': ['B-MOUNTAIN_NAME', 'I-MOUNTAIN_NAME', 'O', 'O', 'B-MOUNTAIN_NAME', 'I-MOUNTAIN_NAME', 'O', 'O', 'O', 'O', 'O', 'O', 'O', 'O', 'O', 'O']}, {'tokens': ['Nanda', 'Devi', ',', 'the', 'second', 'highest', 'mountain', 'in', 'India', ',', 'is', 'often', 'paired', 'with', 'Kirat', 'Chuli', ',', 'a', 'nearby', 'peak', '.'], 'labels': ['B-MOUNTAIN_NAME', 'I-MOUNTAIN_NAME', 'O', 'O', 'O', 'O', 'O', 'O', 'O', 'O', 'O', 'O', 'O', 'O', 'B-MOUNTAIN_NAME', 'I-MOUNTAIN_NAME', 'O', 'O', 'O', 'O', 'O']}, {'tokens': ['Kirat', 'Chuli', 'and', 'Nanda', 'Devi', 'are', 'both', 'renowned', 'for', 'their', 'beauty', 'and', 'difficult', 'climbs', '.'], 'labels': ['B-MOUNTAIN_NAME', 'I-MOUNTAIN_NAME', 'O', 'B-MOUNTAIN_NAME', 'I-MOUNTAIN_NAME', 'O', 'O', 'O', 'O', 'O', 'O', 'O', 'O', 'O', 'O']}, {'tokens': ['Nanga', 'Parbat', ',', 'often', 'called', 'the', 'Killer', 'Mountain', ',', 'is', 'located', 'near', 'Chongtar', ',', 'a', 'lesser', 'known', 'peak', 'in', 'the', 'area', '.'], 'labels': ['B-MOUNTAIN_NAME', 'I-MOUNTAIN_NAME', 'O', 'O', 'O', 'O', 'O', 'O', 'O', 'O', 'O', 'O', 'B-MOUNTAIN_NAME', 'O', 'O', 'O', 'O', 'O', 'O', 'O', 'O', 'O']}, {'tokens': ['Chongtar', 'stands', 'in', 'the', 'shadow', 'of', 'Nanga', 'Parbat', ',', 'one', 'of', 'the', 'deadliest', 'peaks', 'in', 'the', 'world', '.'], 'labels': ['B-MOUNTAIN_NAME', 'O', 'O', 'O', 'O', 'O', 'B-MOUNTAIN_NAME', 'I-MOUNTAIN_NAME', 'O', 'O', 'O', 'O', 'O', 'O', 'O', 'O', 'O', 'O']}, {'tokens': ['Dhaulagiri', 'I', 'is', 'the', 'seventh', 'highest', 'mountain', 'in', 'the', 'world', ',', 'and', 'Rakaposhi', 'is', 'another', 'towering', 'peak', 'in', 'the', 'region', '.'], 'labels': ['B-MOUNTAIN_NAME', 'I-MOUNTAIN_NAME', 'O', 'O', 'O', 'O', 'O', 'O', 'O', 'O', 'O', 'O', 'B-MOUNTAIN_NAME', 'O', 'O', 'O', 'O', 'O', 'O', 'O', 'O']}, {'tokens': ['Rakaposhi', ',', 'known', 'for', 'its', 'beauty', ',', 'stands', 'near', 'the', 'massive', 'Dhaulagiri', 'I', '.'], 'labels': ['B-MOUNTAIN_NAME', 'O', 'O', 'O', 'O', 'O', 'O', 'O', 'O', 'O', 'O', 'B-MOUNTAIN_NAME', 'I-MOUNTAIN_NAME', 'O']}, {'tokens': ['Khunyang', 'Chhish', 'and', 'Chogolisa', 'are', 'two', 'striking', 'peaks', 'in', 'the', 'Karakoram', 'range', '.'], 'labels': ['B-MOUNTAIN_NAME', 'I-MOUNTAIN_NAME', 'O', 'B-MOUNTAIN_NAME', 'O', 'O', 'O', 'O', 'O', 'O', 'O', 'O', 'O']}, {'tokens': ['Chogolisa', ',', 'standing', 'alongside', 'Khunyang', 'Chhish', ',', 'is', 'a', 'challenging', 'mountain', 'to', 'conquer', '.'], 'labels': ['B-MOUNTAIN_NAME', 'O', 'O', 'O', 'B-MOUNTAIN_NAME', 'I-MOUNTAIN_NAME', 'O', 'O', 'O', 'O', 'O', 'O', 'O', 'O']}, {'tokens': ['Kabru', 'N', ',', 'located', 'near', 'Yutmaru', 'Sar', ',', 'is', 'a', 'majestic', 'peak', 'in', 'the', 'Himalayas', '.'], 'labels': ['B-MOUNTAIN_NAME', 'I-MOUNTAIN_NAME', 'O', 'O', 'O', 'B-MOUNTAIN_NAME', 'I-MOUNTAIN_NAME', 'O', 'O', 'O', 'O', 'O', 'O', 'O', 'O', 'O']}, {'tokens': ['Yutmaru', 'Sar', 'and', 'Kabru', 'N', 'are', 'both', 'high', 'altitude', 'mountains', ',', 'offering', 'stunning', 'views', 'and', 'difficult', 'ascents', '.'], 'labels': ['B-MOUNTAIN_NAME', 'I-MOUNTAIN_NAME', 'O', 'B-MOUNTAIN_NAME', 'I-MOUNTAIN_NAME', 'O', 'O', 'O', 'O', 'O', 'O', 'O', 'O', 'O', 'O', 'O', 'O', 'O']}, {'tokens': ['Himalchuli', 'and', 'Ghent', 'Kangri', 'are', 'both', 'impressive', 'mountains', 'located', 'in', 'different', 'ranges', '.'], 'labels': ['B-MOUNTAIN_NAME', 'O', 'B-MOUNTAIN_NAME', 'I-MOUNTAIN_NAME', 'O', 'O', 'O', 'O', 'O', 'O', 'O', 'O', 'O']}, {'tokens': ['Ghent', 'Kangri', 'and', 'Himalchuli', 'are', 'renowned', 'for', 'their', 'beauty', 'and', 'remoteness', '.'], 'labels': ['B-MOUNTAIN_NAME', 'I-MOUNTAIN_NAME', 'O', 'B-MOUNTAIN_NAME', 'O', 'O', 'O', 'O', 'O', 'O', 'O', 'O']}, {'tokens': ['Labuche', 'Kang', ',', 'a', 'notable', 'peak', 'in', 'Tibet', ',', 'shares', 'its', 'name', 'with', 'Pumari', 'Chhish', ',', 'another', 'high', 'altitude', 'mountain', '.'], 'labels': ['B-MOUNTAIN_NAME', 'I-MOUNTAIN_NAME', 'O', 'O', 'O', 'O', 'O', 'O', 'O', 'O', 'O', 'O', 'O', 'B-MOUNTAIN_NAME', 'I-MOUNTAIN_NAME', 'O', 'O', 'O', 'O', 'O', 'O']}, {'tokens': ['Pumari', 'Chhish', ',', 'alongside', 'Labuche', 'Kang', ',', 'dominates', 'the', 'skyline', 'with', 'its', 'massive', 'presence', '.'], 'labels': ['B-MOUNTAIN_NAME', 'I-MOUNTAIN_NAME', 'O', 'O', 'B-MOUNTAIN_NAME', 'I-MOUNTAIN_NAME', 'O', 'O', 'O', 'O', 'O', 'O', 'O', 'O', 'O']}, {'tokens': ['Singhi', 'Kangri', 'and', 'Saser', 'Kangri', 'III', 'are', 'two', 'remarkable', 'peaks', 'in', 'the', 'Karakoram', 'range', '.'], 'labels': ['B-MOUNTAIN_NAME', 'I-MOUNTAIN_NAME', 'O', 'B-MOUNTAIN_NAME', 'I-MOUNTAIN_NAME', 'I-MOUNTAIN_NAME', 'O', 'O', 'O', 'O', 'O', 'O', 'O', 'O', 'O']}, {'tokens': ['Saser', 'Kangri', 'III', ',', 'along', 'with', 'Singhi', 'Kangri', ',', 'offers', 'a', 'formidable', 'challenge', 'for', 'mountaineers', '.'], 'labels': ['B-MOUNTAIN_NAME', 'I-MOUNTAIN_NAME', 'I-MOUNTAIN_NAME', 'O', 'O', 'O', 'B-MOUNTAIN_NAME', 'I-MOUNTAIN_NAME', 'O', 'O', 'O', 'O', 'O', 'O', 'O', 'O']}, {'tokens': ['Gurla', 'Mandhata', ',', 'located', 'in', 'Tibet', ',', 'is', 'often', 'compared', 'to', 'Kongur', 'Tiube', ',', 'a', 'neighboring', 'peak', '.'], 'labels': ['B-MOUNTAIN_NAME', 'I-MOUNTAIN_NAME', 'O', 'O', 'O', 'O', 'O', 'O', 'O', 'O', 'O', 'B-MOUNTAIN_NAME', 'I-MOUNTAIN_NAME', 'O', 'O', 'O', 'O', 'O']}, {'tokens': ['Kongur', 'Tiube', 'stands', 'near', 'Gurla', 'Mandhata', ',', 'both', 'peaks', 'dominating', 'the', 'surrounding', 'landscape', '.'], 'labels': ['B-MOUNTAIN_NAME', 'I-MOUNTAIN_NAME', 'O', 'O', 'B-MOUNTAIN_NAME', 'I-MOUNTAIN_NAME', 'O', 'O', 'O', 'O', 'O', 'O', 'O', 'O']}, {'tokens': ['Gangapurna', ',', 'one', 'of', 'the', 'tallest', 'peaks', 'in', 'the', 'Annapurna', 'range', ',', 'is', 'paired', 'with', 'Langtang', 'Lirung', ',', 'a', 'Himalayan', 'giant', '.'], 'labels': ['B-MOUNTAIN_NAME', 'O', 'O', 'O', 'O', 'O', 'O', 'O', 'O', 'O', 'O', 'O', 'O', 'O', 'O', 'B-MOUNTAIN_NAME', 'I-MOUNTAIN_NAME', 'O', 'O', 'O', 'O', 'O']}, {'tokens': ['Langtang', 'Lirung', ',', 'rising', 'alongside', 'Gangapurna', ',', 'offers', 'breathtaking', 'vistas', 'and', 'steep', 'ridges', '.'], 'labels': ['B-MOUNTAIN_NAME', 'I-MOUNTAIN_NAME', 'O', 'O', 'O', 'B-MOUNTAIN_NAME', 'O', 'O', 'O', 'O', 'O', 'O', 'O', 'O']}, {'tokens': ['Kangchenjunga', ',', 'the', 'third', 'highest', 'mountain', 'in', 'the', 'world', ',', 'is', 'located', 'near', 'Malangutti', 'Sar', '.'], 'labels': ['B-MOUNTAIN_NAME', 'O', 'O', 'O', 'O', 'O', 'O', 'O', 'O', 'O', 'O', 'O', 'O', 'B-MOUNTAIN_NAME', 'I-MOUNTAIN_NAME', 'O']}, {'tokens': ['Malangutti', 'Sar', 'stands', 'close', 'to', 'Kangchenjunga', ',', 'both', 'peaks', 'being', 'key', 'features', 'of', 'the', 'eastern', 'Himalayas', '.'], 'labels': ['B-MOUNTAIN_NAME', 'I-MOUNTAIN_NAME', 'O', 'O', 'O', 'B-MOUNTAIN_NAME', 'O', 'O', 'O', 'O', 'O', 'O', 'O', 'O', 'O', 'O', 'O']}, {'tokens': ['Rimo', 'III', 'and', 'Talung', 'are', 'two', 'significant', 'peaks', ',', 'both', 'offering', 'challenging', 'climbs', '.'], 'labels': ['B-MOUNTAIN_NAME', 'I-MOUNTAIN_NAME', 'O', 'B-MOUNTAIN_NAME', 'O', 'O', 'O', 'O', 'O', 'O', 'O', 'O', 'O', 'O']}, {'tokens': ['Talung', ',', 'along', 'with', 'Rimo', 'III', ',', 'stands', 'tall', 'as', 'a', 'major', 'mountain', 'in', 'its', 'range', '.'], 'labels': ['B-MOUNTAIN_NAME', 'O', 'O', 'O', 'B-MOUNTAIN_NAME', 'I-MOUNTAIN_NAME', 'O', 'O', 'O', 'O', 'O', 'O', 'O', 'O', 'O', 'O', 'O']}, {'tokens': ['Chomo', 'Lonzo', ',', 'near', 'the', 'Tibetan', 'border', ',', 'is', 'often', 'compared', 'to', 'Ismoil', 'Somoni', 'Peak', '.'], 'labels': ['B-MOUNTAIN_NAME', 'I-MOUNTAIN_NAME', 'O', 'O', 'O', 'O', 'O', 'O', 'O', 'O', 'O', 'O', 'B-MOUNTAIN_NAME', 'I-MOUNTAIN_NAME', 'I-MOUNTAIN_NAME', 'O']}, {'tokens': ['Ismoil', 'Somoni', 'Peak', ',', 'rising', 'alongside', 'Chomo', 'Lonzo', ',', 'is', 'one', 'of', 'the', 'tallest', 'mountains', 'in', 'its', 'region', '.'], 'labels': ['B-MOUNTAIN_NAME', 'I-MOUNTAIN_NAME', 'I-MOUNTAIN_NAME', 'O', 'O', 'O', 'B-MOUNTAIN_NAME', 'I-MOUNTAIN_NAME', 'O', 'O', 'O', 'O', 'O', 'O', 'O', 'O', 'O', 'O', 'O']}, {'tokens': ['Yukshin', 'Gardan', 'Sar', ',', 'a', 'high', 'peak', 'in', 'Pakistan', ',', 'stands', 'near', 'Saraghrar', ',', 'another', 'formidable', 'mountain', '.'], 'labels': ['B-MOUNTAIN_NAME', 'I-MOUNTAIN_NAME', 'I-MOUNTAIN_NAME', 'O', 'O', 'O', 'O', 'O', 'O', 'O', 'O', 'O', 'B-MOUNTAIN_NAME', 'O', 'O', 'O', 'O', 'O']}, {'tokens': ['Saraghrar', 'and', 'Yukshin', 'Gardan', 'Sar', 'are', 'both', 'known', 'for', 'their', 'rugged', 'beauty', 'and', 'difficult', 'ascents', '.'], 'labels': ['B-MOUNTAIN_NAME', 'O', 'B-MOUNTAIN_NAME', 'I-MOUNTAIN_NAME', 'I-MOUNTAIN_NAME', 'O', 'O', 'O', 'O', 'O', 'O', 'O', 'O', 'O', 'O', 'O']}, {'tokens': ['Noshaq', ',', 'the', 'highest', 'mountain', 'in', 'Afghanistan', ',', 'is', 'paired', 'with', 'Cho', 'Oyu', ',', 'one', 'of', 'the', '8', ',', '000', 'meter', 'giants', '.'], 'labels': ['B-MOUNTAIN_NAME', 'O', 'O', 'O', 'O', 'O', 'O', 'O', 'O', 'O', 'O', 'B-MOUNTAIN_NAME', 'I-MOUNTAIN_NAME', 'O', 'O', 'O', 'O', 'O', 'O', 'O', 'O', 'O', 'O']}, {'tokens': ['Cho', 'Oyu', 'and', 'Noshaq', 'stand', 'tall', ',', 'offering', 'awe', 'inspiring', 'views', 'and', 'challenging', 'climbs', '.'], 'labels': ['B-MOUNTAIN_NAME', 'I-MOUNTAIN_NAME', 'O', 'B-MOUNTAIN_NAME', 'O', 'O', 'O', 'O', 'O', 'O', 'O', 'O', 'O', 'O', 'O']}, {'tokens': ['Teram', 'Kangri', 'I', 'and', 'Gangkhar', 'Puensum', 'are', 'two', 'significant', 'peaks', 'in', 'the', 'Himalayas', '.'], 'labels': ['B-MOUNTAIN_NAME', 'I-MOUNTAIN_NAME', 'I-MOUNTAIN_NAME', 'O', 'B-MOUNTAIN_NAME', 'I-MOUNTAIN_NAME', 'O', 'O', 'O', 'O', 'O', 'O', 'O', 'O']}, {'tokens': ['Gangkhar', 'Puensum', ',', 'along', 'with', 'Teram', 'Kangri', 'I', ',', 'remains', 'one', 'of', 'the', 'world', 's', 'highest', 'unclimbed', 'mountains', '.'], 'labels': ['B-MOUNTAIN_NAME', 'I-MOUNTAIN_NAME', 'O', 'O', 'O', 'B-MOUNTAIN_NAME', 'I-MOUNTAIN_NAME', 'I-MOUNTAIN_NAME', 'O', 'O', 'O', 'O', 'O', 'O', 'O', 'O', 'O', 'O', 'O']}, {'tokens': ['Diran', ',', 'located', 'in', 'the', 'Karakoram', ',', 'is', 'paired', 'with', 'Skil', 'Brum', ',', 'a', 'lesser', 'known', 'but', 'impressive', 'peak', '.'], 'labels': ['B-MOUNTAIN_NAME', 'O', 'O', 'O', 'O', 'O', 'O', 'O', 'O', 'O', 'B-MOUNTAIN_NAME', 'I-MOUNTAIN_NAME', 'O', 'O', 'O', 'O', 'O', 'O', 'O', 'O']}, {'tokens': ['Skil', 'Brum', ',', 'alongside', 'Diran', ',', 'offers', 'challenging', 'routes', 'for', 'climbers', '.'], 'labels': ['B-MOUNTAIN_NAME', 'I-MOUNTAIN_NAME', 'O', 'O', 'B-MOUNTAIN_NAME', 'O', 'O', 'O', 'O', 'O', 'O', 'O']}, {'tokens': ['Lhotse', ',', 'the', 'fourth', 'highest', 'mountain', 'in', 'the', 'world', ',', 'stands', 'near', 'Annapurna', 'Dakshin', ',', 'also', 'known', 'as', 'Annapurna', 'South', '.'], 'labels': ['B-MOUNTAIN_NAME', 'O', 'O', 'O', 'O', 'O', 'O', 'O', 'O', 'O', 'O', 'O', 'O', 'O', 'O', 'O', 'O', 'O', 'O', 'O', 'O']}, {'tokens': ['Annapurna', 'Dakshin', ',', 'located', 'close', 'to', 'Lhotse', ',', 'is', 'one', 'of', 'the', 'most', 'striking', 'peaks', 'in', 'the', 'Annapurna', 'range', '.'], 'labels': ['O', 'O', 'O', 'O', 'O', 'O', 'B-MOUNTAIN_NAME', 'O', 'O', 'O', 'O', 'O', 'O', 'O', 'O', 'O', 'O', 'O', 'O', 'O']}, {'tokens': ['Nangpai', 'Gosum', ',', 'a', 'lesser', 'known', 'peak', 'in', 'Tibet', ',', 'is', 'located', 'near', 'Tirich', 'Mir', ',', 'the', 'highest', 'mountain', 'in', 'the', 'Hindu', 'Kush', 'range', '.'], 'labels': ['B-MOUNTAIN_NAME', 'I-MOUNTAIN_NAME', 'O', 'O', 'O', 'O', 'O', 'O', 'O', 'O', 'O', 'O', 'O', 'B-MOUNTAIN_NAME', 'I-MOUNTAIN_NAME', 'O', 'O', 'O', 'O', 'O', 'O', 'O', 'O', 'O', 'O']}, {'tokens': ['Tirich', 'Mir', ',', 'towering', 'over', 'Nangpai', 'Gosum', ',', 'is', 'the', 'highest', 'peak', 'outside', 'the', 'Himalayas', '.'], 'labels': ['B-MOUNTAIN_NAME', 'I-MOUNTAIN_NAME', 'O', 'O', 'O', 'B-MOUNTAIN_NAME', 'I-MOUNTAIN_NAME', 'O', 'O', 'O', 'O', 'O', 'O', 'O', 'O', 'O']}, {'tokens': ['Mukut', 'Parbat', ',', 'a', 'striking', 'mountain', 'in', 'the', 'Indian', 'Himalayas', ',', 'is', 'located', 'near', 'Namcha', 'Barwa', ',', 'a', 'formidable', 'peak', 'in', 'Tibet', '.'], 'labels': ['B-MOUNTAIN_NAME', 'I-MOUNTAIN_NAME', 'O', 'O', 'O', 'O', 'O', 'O', 'O', 'O', 'O', 'O', 'O', 'O', 'B-MOUNTAIN_NAME', 'I-MOUNTAIN_NAME', 'O', 'O', 'O', 'O', 'O', 'O', 'O']}, {'tokens': ['Namcha', 'Barwa', 'and', 'Mukut', 'Parbat', 'are', 'both', 'known', 'for', 'their', 'challenging', 'terrains', 'and', 'breathtaking', 'views', '.'], 'labels': ['B-MOUNTAIN_NAME', 'I-MOUNTAIN_NAME', 'O', 'B-MOUNTAIN_NAME', 'I-MOUNTAIN_NAME', 'O', 'O', 'O', 'O', 'O', 'O', 'O', 'O', 'O', 'O', 'O']}, {'tokens': ['Muztagh', 'Tower', 'and', 'Skyang', 'Kangri', 'are', 'two', 'rugged', 'peaks', 'in', 'the', 'Karakoram', 'range', '.'], 'labels': ['B-MOUNTAIN_NAME', 'I-MOUNTAIN_NAME', 'O', 'B-MOUNTAIN_NAME', 'I-MOUNTAIN_NAME', 'O', 'O', 'O', 'O', 'O', 'O', 'O', 'O', 'O']}, {'tokens': ['Skyang', 'Kangri', ',', 'along', 'with', 'Muztagh', 'Tower', ',', 'stands', 'as', 'a', 'testament', 'to', 'the', 'beauty', 'and', 'difficulty', 'of', 'the', 'Karakoram', '.'], 'labels': ['B-MOUNTAIN_NAME', 'I-MOUNTAIN_NAME', 'O', 'O', 'O', 'B-MOUNTAIN_NAME', 'I-MOUNTAIN_NAME', 'O', 'O', 'O', 'O', 'O', 'O', 'O', 'O', 'O', 'O', 'O', 'O', 'O', 'O']}, {'tokens': ['Broad', 'Peak', ',', 'an', '8', ',', '000', 'meter', 'giant', ',', 'is', 'located', 'near', 'Dhaulagiri', 'II', ',', 'another', 'prominent', 'mountain', 'in', 'the', 'region', '.'], 'labels': ['B-MOUNTAIN_NAME', 'I-MOUNTAIN_NAME', 'O', 'O', 'O', 'O', 'O', 'O', 'O', 'O', 'O', 'O', 'O', 'B-MOUNTAIN_NAME', 'I-MOUNTAIN_NAME', 'O', 'O', 'O', 'O', 'O', 'O', 'O', 'O']}, {'tokens': ['Dhaulagiri', 'II', 'stands', 'near', 'Broad', 'Peak', ',', 'both', 'offering', 'challenging', 'ascents', 'and', 'breathtaking', 'vistas', '.'], 'labels': ['B-MOUNTAIN_NAME', 'I-MOUNTAIN_NAME', 'O', 'O', 'B-MOUNTAIN_NAME', 'I-MOUNTAIN_NAME', 'O', 'O', 'O', 'O', 'O', 'O', 'O', 'O', 'O']}, {'tokens': ['Kongur', 'Tagh', 'and', 'Annapurna', 'II', 'are', 'two', 'significant', 'peaks', ',', 'both', 'offering', 'difficult', 'climbs', '.'], 'labels': ['B-MOUNTAIN_NAME', 'I-MOUNTAIN_NAME', 'O', 'B-MOUNTAIN_NAME', 'I-MOUNTAIN_NAME', 'O', 'O', 'O', 'O', 'O', 'O', 'O', 'O', 'O', 'O']}, {'tokens': ['Annapurna', 'II', ',', 'standing', 'alongside', 'Kongur', 'Tagh', ',', 'is', 'one', 'of', 'the', 'highest', 'mountains', 'in', 'the', 'Annapurna', 'range', '.'], 'labels': ['B-MOUNTAIN_NAME', 'I-MOUNTAIN_NAME', 'O', 'O', 'O', 'B-MOUNTAIN_NAME', 'I-MOUNTAIN_NAME', 'O', 'O', 'O', 'O', 'O', 'O', 'O', 'O', 'O', 'O', 'O', 'O']}, {'tokens': ['Dhaulagiri', 'IV', ',', 'part', 'of', 'the', 'Dhaulagiri', 'massif', ',', 'stands', 'near', 'Lupghar', 'Sar', ',', 'another', 'towering', 'peak', 'in', 'the', 'Karakoram', 'range', '.'], 'labels': ['B-MOUNTAIN_NAME', 'I-MOUNTAIN_NAME', 'O', 'O', 'O', 'O', 'O', 'O', 'O', 'O', 'O', 'B-MOUNTAIN_NAME', 'I-MOUNTAIN_NAME', 'O', 'O', 'O', 'O', 'O', 'O', 'O', 'O', 'O']}, {'tokens': ['Lupghar', 'Sar', 'and', 'Dhaulagiri', 'IV', 'are', 'both', 'known', 'for', 'their', 'challenging', 'routes', 'and', 'majestic', 'views', '.'], 'labels': ['B-MOUNTAIN_NAME', 'I-MOUNTAIN_NAME', 'O', 'B-MOUNTAIN_NAME', 'I-MOUNTAIN_NAME', 'O', 'O', 'O', 'O', 'O', 'O', 'O', 'O', 'O', 'O', 'O']}, {'tokens': ['Makalu', ',', 'the', 'fifth', 'highest', 'mountain', 'in', 'the', 'world', ',', 'is', 'located', 'near', 'Chamlang', ',', 'another', 'stunning', 'peak', 'in', 'the', 'Himalayas', '.'], 'labels': ['B-MOUNTAIN_NAME', 'O', 'O', 'O', 'O', 'O', 'O', 'O', 'O', 'O', 'O', 'O', 'O', 'B-MOUNTAIN_NAME', 'O', 'O', 'O', 'O', 'O', 'O', 'O', 'O']}, {'tokens': ['Chamlang', ',', 'with', 'its', 'distinctive', 'shape', ',', 'stands', 'near', 'Makalu', ',', 'both', 'peaks', 'dominating', 'the', 'region', '.'], 'labels': ['B-MOUNTAIN_NAME', 'O', 'O', 'O', 'O', 'O', 'O', 'O', 'O', 'B-MOUNTAIN_NAME', 'O', 'O', 'O', 'O', 'O', 'O', 'O']}, {'tokens': ['Momhil', 'Sar', 'and', 'Sherpi', 'Kangri', 'are', 'two', 'impressive', 'peaks', 'in', 'the', 'Karakoram', 'range', ',', 'known', 'for', 'their', 'rugged', 'beauty', '.'], 'labels': ['B-MOUNTAIN_NAME', 'I-MOUNTAIN_NAME', 'O', 'B-MOUNTAIN_NAME', 'I-MOUNTAIN_NAME', 'O', 'O', 'O', 'O', 'O', 'O', 'O', 'O', 'O', 'O', 'O', 'O', 'O', 'O', 'O']}, {'tokens': ['Sherpi', 'Kangri', ',', 'along', 'with', 'Momhil', 'Sar', ',', 'offers', 'breathtaking', 'views', 'and', 'a', 'challenging', 'climb', 'for', 'experienced', 'mountaineers', '.'], 'labels': ['B-MOUNTAIN_NAME', 'I-MOUNTAIN_NAME', 'O', 'O', 'O', 'B-MOUNTAIN_NAME', 'I-MOUNTAIN_NAME', 'O', 'O', 'O', 'O', 'O', 'O', 'O', 'O', 'O', 'O', 'O', 'O']}, {'tokens': ['Haramosh', 'Peak', 'and', 'Baltoro', 'Kangri', 'are', 'two', 'iconic', 'peaks', 'in', 'the', 'Karakoram', ',', 'offering', 'tough', 'yet', 'rewarding', 'climbs', '.'], 'labels': ['B-MOUNTAIN_NAME', 'I-MOUNTAIN_NAME', 'O', 'B-MOUNTAIN_NAME', 'I-MOUNTAIN_NAME', 'O', 'O', 'O', 'O', 'O', 'O', 'O', 'O', 'O', 'O', 'O', 'O', 'O', 'O']}, {'tokens': ['Baltoro', 'Kangri', ',', 'standing', 'alongside', 'Haramosh', 'Peak', ',', 'is', 'a', 'sight', 'to', 'behold', 'in', 'the', 'vast', 'Karakoram', 'landscape', '.'], 'labels': ['B-MOUNTAIN_NAME', 'I-MOUNTAIN_NAME', 'O', 'O', 'O', 'B-MOUNTAIN_NAME', 'I-MOUNTAIN_NAME', 'O', 'O', 'O', 'O', 'O', 'O', 'O', 'O', 'O', 'O', 'O', 'O']}, {'tokens': ['Ngadi', 'Chuli', ',', 'also', 'known', 'as', 'Peak', '29', ',', 'is', 'located', 'near', 'Mana', 'Peak', 'in', 'the', 'Nepalese', 'Himalayas', '.'], 'labels': ['B-MOUNTAIN_NAME', 'I-MOUNTAIN_NAME', 'O', 'O', 'O', 'O', 'O', 'O', 'O', 'O', 'O', 'O', 'B-MOUNTAIN_NAME', 'I-MOUNTAIN_NAME', 'O', 'O', 'O', 'O', 'O']}, {'tokens': ['Mana', 'Peak', 'stands', 'near', 'Ngadi', 'Chuli', ',', 'both', 'peaks', 'forming', 'a', 'stunning', 'part', 'of', 'the', 'Himalayan', 'skyline', '.'], 'labels': ['B-MOUNTAIN_NAME', 'I-MOUNTAIN_NAME', 'O', 'O', 'B-MOUNTAIN_NAME', 'I-MOUNTAIN_NAME', 'O', 'O', 'O', 'O', 'O', 'O', 'O', 'O', 'O', 'O', 'O', 'O']}, {'tokens': ['Siguang', 'Ri', 'and', 'Trivor', 'are', 'two', 'remote', 'mountains', ',', 'both', 'offering', 'difficult', 'and', 'less', 'traveled', 'routes', '.'], 'labels': ['B-MOUNTAIN_NAME', 'I-MOUNTAIN_NAME', 'O', 'B-MOUNTAIN_NAME', 'O', 'O', 'O', 'O', 'O', 'O', 'O', 'O', 'O', 'O', 'O', 'O', 'O']}, {'tokens': ['Trivor', ',', 'located', 'near', 'Siguang', 'Ri', ',', 'is', 'known', 'for', 'its', 'rugged', 'terrain', 'and', 'steep', 'ascents', '.'], 'labels': ['B-MOUNTAIN_NAME', 'O', 'O', 'O', 'B-MOUNTAIN_NAME', 'I-MOUNTAIN_NAME', 'O', 'O', 'O', 'O', 'O', 'O', 'O', 'O', 'O', 'O', 'O']}, {'tokens': ['Batura', 'Sar', ',', 'a', 'prominent', 'peak', 'in', 'the', 'Karakoram', 'range', ',', 'is', 'located', 'near', 'Molamenqing', ',', 'another', 'majestic', 'mountain', '.'], 'labels': ['B-MOUNTAIN_NAME', 'I-MOUNTAIN_NAME', 'O', 'O', 'O', 'O', 'O', 'O', 'O', 'O', 'O', 'O', 'O', 'O', 'B-MOUNTAIN_NAME', 'O', 'O', 'O', 'O', 'O']}, {'tokens': ['Molamenqing', ',', 'standing', 'tall', 'next', 'to', 'Batura', 'Sar', ',', 'offers', 'climbers', 'a', 'challenging', 'but', 'rewarding', 'experience', '.'], 'labels': ['B-MOUNTAIN_NAME', 'O', 'O', 'O', 'O', 'O', 'B-MOUNTAIN_NAME', 'I-MOUNTAIN_NAME', 'O', 'O', 'O', 'O', 'O', 'O', 'O', 'O', 'O']}, {'tokens': ['Putha', 'Hiunchuli', ',', 'one', 'of', 'the', 'highest', 'peaks', 'in', 'Nepal', ',', 'stands', 'near', 'Kanjut', 'Sar', ',', 'a', 'beautiful', 'peak', 'in', 'the', 'Karakoram', '.'], 'labels': ['B-MOUNTAIN_NAME', 'I-MOUNTAIN_NAME', 'O', 'O', 'O', 'O', 'O', 'O', 'O', 'O', 'O', 'O', 'O', 'B-MOUNTAIN_NAME', 'I-MOUNTAIN_NAME', 'O', 'O', 'O', 'O', 'O', 'O', 'O', 'O']}, {'tokens': ['Kanjut', 'Sar', ',', 'located', 'near', 'Putha', 'Hiunchuli', ',', 'is', 'known', 'for', 'its', 'striking', 'ridges', 'and', 'icy', 'slopes', '.'], 'labels': ['B-MOUNTAIN_NAME', 'I-MOUNTAIN_NAME', 'O', 'O', 'O', 'B-MOUNTAIN_NAME', 'I-MOUNTAIN_NAME', 'O', 'O', 'O', 'O', 'O', 'O', 'O', 'O', 'O', 'O', 'O']}, {'tokens': ['Nuptse', ',', 'a', 'close', 'neighbor', 'of', 'Mount', 'Everest', ',', 'stands', 'alongside', 'Muztagh', 'Ata', ',', 'a', 'massive', 'peak', 'in', 'the', 'Pamirs', '.'], 'labels': ['B-MOUNTAIN_NAME', 'O', 'O', 'O', 'O', 'O', 'B-MOUNTAIN_NAME', 'I-MOUNTAIN_NAME', 'O', 'O', 'O', 'B-MOUNTAIN_NAME', 'I-MOUNTAIN_NAME', 'O', 'O', 'O', 'O', 'O', 'O', 'O', 'O']}, {'tokens': ['Muztagh', 'Ata', 'and', 'Nuptse', 'are', 'two', 'towering', 'giants', 'that', 'attract', 'climbers', 'from', 'around', 'the', 'world', '.'], 'labels': ['B-MOUNTAIN_NAME', 'I-MOUNTAIN_NAME', 'O', 'B-MOUNTAIN_NAME', 'O', 'O', 'O', 'O', 'O', 'O', 'O', 'O', 'O', 'O', 'O', 'O']}, {'tokens': ['K12', ',', 'a', 'rugged', 'mountain', 'in', 'the', 'Karakoram', ',', 'is', 'paired', 'with', 'Kamet', ',', 'one', 'of', 'the', 'highest', 'peaks', 'in', 'India', '.'], 'labels': ['B-MOUNTAIN_NAME', 'O', 'O', 'O', 'O', 'O', 'O', 'O', 'O', 'O', 'O', 'O', 'B-MOUNTAIN_NAME', 'O', 'O', 'O', 'O', 'O', 'O', 'O', 'O', 'O']}, {'tokens': ['Kamet', 'stands', 'proudly', 'near', 'K12', ',', 'both', 'mountains', 'offering', 'awe', 'inspiring', 'views', 'of', 'the', 'surrounding', 'landscapes', '.'], 'labels': ['B-MOUNTAIN_NAME', 'O', 'O', 'O', 'B-MOUNTAIN_NAME', 'O', 'O', 'O', 'O', 'O', 'O', 'O', 'O', 'O', 'O', 'O', 'O']}, {'tokens': ['Dhaulagiri', 'V', ',', 'part', 'of', 'the', 'Dhaulagiri', 'range', ',', 'is', 'located', 'near', 'Gyala', 'Peri', ',', 'a', 'striking', 'peak', 'in', 'Tibet', '.'], 'labels': ['B-MOUNTAIN_NAME', 'I-MOUNTAIN_NAME', 'O', 'O', 'O', 'O', 'O', 'O', 'O', 'O', 'O', 'O', 'B-MOUNTAIN_NAME', 'I-MOUNTAIN_NAME', 'O', 'O', 'O', 'O', 'O', 'O', 'O']}, {'tokens': ['Gyala', 'Peri', ',', 'standing', 'near', 'Dhaulagiri', 'V', ',', 'is', 'a', 'dominant', 'peak', 'in', 'the', 'Eastern', 'Himalayas', '.'], 'labels': ['B-MOUNTAIN_NAME', 'I-MOUNTAIN_NAME', 'O', 'O', 'O', 'B-MOUNTAIN_NAME', 'I-MOUNTAIN_NAME', 'O', 'O', 'O', 'O', 'O', 'O', 'O', 'O', 'O', 'O']}, {'tokens': ['Sia', 'Kangri', 'and', 'Gyachung', 'Kang', 'are', 'two', 'towering', 'peaks', 'located', 'in', 'different', 'ranges', ',', 'both', 'offering', 'stunning', 'climbs', '.'], 'labels': ['B-MOUNTAIN_NAME', 'I-MOUNTAIN_NAME', 'O', 'B-MOUNTAIN_NAME', 'I-MOUNTAIN_NAME', 'O', 'O', 'O', 'O', 'O', 'O', 'O', 'O', 'O', 'O', 'O', 'O', 'O', 'O']}, {'tokens': ['Gyachung', 'Kang', ',', 'alongside', 'Sia', 'Kangri', ',', 'is', 'a', 'key', 'feature', 'of', 'the', 'Himalayan', 'and', 'Karakoram', 'landscapes', '.'], 'labels': ['B-MOUNTAIN_NAME', 'I-MOUNTAIN_NAME', 'O', 'O', 'B-MOUNTAIN_NAME', 'I-MOUNTAIN_NAME', 'O', 'O', 'O', 'O', 'O', 'O', 'O', 'O', 'O', 'O', 'O', 'O']}, {'tokens': ['Dhaulagiri', 'VI', ',', 'the', 'sixth', 'peak', 'in', 'the', 'Dhaulagiri', 'massif', ',', 'stands', 'near', 'Karjiang', ',', 'a', 'lesser', 'known', 'but', 'challenging', 'mountain', '.'], 'labels': ['B-MOUNTAIN_NAME', 'I-MOUNTAIN_NAME', 'O', 'O', 'O', 'O', 'O', 'O', 'O', 'O', 'O', 'O', 'O', 'B-MOUNTAIN_NAME', 'O', 'O', 'O', 'O', 'O', 'O', 'O', 'O']}, {'tokens': ['Karjiang', 'rises', 'near', 'Dhaulagiri', 'VI', ',', 'both', 'peaks', 'offering', 'climbers', 'unique', 'challenges', 'and', 'spectacular', 'views', '.'], 'labels': ['B-MOUNTAIN_NAME', 'O', 'O', 'B-MOUNTAIN_NAME', 'I-MOUNTAIN_NAME', 'O', 'O', 'O', 'O', 'O', 'O', 'O', 'O', 'O', 'O', 'O']}, {'tokens': ['Annapurna', 'III', ',', 'part', 'of', 'the', 'Annapurna', 'range', ',', 'is', 'located', 'near', 'Manaslu', ',', 'the', 'eighth', 'highest', 'mountain', 'in', 'the', 'world', '.'], 'labels': ['B-MOUNTAIN_NAME', 'I-MOUNTAIN_NAME', 'O', 'O', 'O', 'O', 'O', 'O', 'O', 'O', 'O', 'O', 'B-MOUNTAIN_NAME', 'O', 'O', 'O', 'O', 'O', 'O', 'O', 'O', 'O']}, {'tokens': ['Manaslu', ',', 'towering', 'next', 'to', 'Annapurna', 'III', ',', 'is', 'one', 'of', 'the', 'most', 'majestic', 'peaks', 'in', 'the', 'Himalayas', '.'], 'labels': ['B-MOUNTAIN_NAME', 'O', 'O', 'O', 'O', 'B-MOUNTAIN_NAME', 'I-MOUNTAIN_NAME', 'O', 'O', 'O', 'O', 'O', 'O', 'O', 'O', 'O', 'O', 'O', 'O']}, {'tokens': ['Mamostong', 'Kangri', 'and', 'Malubiting', 'are', 'two', 'rugged', 'peaks', 'located', 'in', 'different', 'ranges', ',', 'each', 'offering', 'their', 'own', 'challenges', '.'], 'labels': ['B-MOUNTAIN_NAME', 'I-MOUNTAIN_NAME', 'O', 'B-MOUNTAIN_NAME', 'O', 'O', 'O', 'O', 'O', 'O', 'O', 'O', 'O', 'O', 'O', 'O', 'O', 'O', 'O']}, {'tokens': ['Malubiting', 'and', 'Mamostong', 'Kangri', 'stand', 'tall', 'in', 'their', 'respective', 'ranges', ',', 'offering', 'breathtaking', 'vistas', '.'], 'labels': ['B-MOUNTAIN_NAME', 'O', 'B-MOUNTAIN_NAME', 'I-MOUNTAIN_NAME', 'O', 'O', 'O', 'O', 'O', 'O', 'O', 'O', 'O', 'O', 'O']}, {'tokens': ['Annapurna', 'IV', ',', 'another', 'peak', 'in', 'the', 'Annapurna', 'massif', ',', 'is', 'located', 'near', 'Changtse', ',', 'a', 'significant', 'mountain', 'in', 'the', 'Everest', 'region', '.'], 'labels': ['B-MOUNTAIN_NAME', 'I-MOUNTAIN_NAME', 'O', 'O', 'O', 'O', 'O', 'O', 'O', 'O', 'O', 'O', 'O', 'B-MOUNTAIN_NAME', 'O', 'O', 'O', 'O', 'O', 'O', 'O', 'O', 'O']}, {'tokens': ['Changtse', 'rises', 'near', 'Annapurna', 'IV', ',', 'both', 'mountains', 'being', 'key', 'features', 'of', 'the', 'Himalayan', 'landscape', '.'], 'labels': ['B-MOUNTAIN_NAME', 'O', 'O', 'B-MOUNTAIN_NAME', 'I-MOUNTAIN_NAME', 'O', 'O', 'O', 'O', 'O', 'O', 'O', 'O', 'O', 'O', 'O']}, {'tokens': ['Passu', 'Sar', 'and', 'Kula', 'Kangri', 'are', 'two', 'significant', 'peaks', 'located', 'in', 'different', 'ranges', ',', 'both', 'known', 'for', 'their', 'challenging', 'ascents', '.'], 'labels': ['B-MOUNTAIN_NAME', 'I-MOUNTAIN_NAME', 'O', 'B-MOUNTAIN_NAME', 'I-MOUNTAIN_NAME', 'O', 'O', 'O', 'O', 'O', 'O', 'O', 'O', 'O', 'O', 'O', 'O', 'O', 'O', 'O', 'O']}, {'tokens': ['Kula', 'Kangri', 'stands', 'near', 'Passu', 'Sar', ',', 'offering', 'climbers', 'dramatic', 'views', 'and', 'tough', 'routes', '.'], 'labels': ['B-MOUNTAIN_NAME', 'I-MOUNTAIN_NAME', 'O', 'O', 'B-MOUNTAIN_NAME', 'I-MOUNTAIN_NAME', 'O', 'O', 'O', 'O', 'O', 'O', 'O', 'O', 'O']}, {'tokens': ['Jongsong', 'Peak', ',', 'located', 'on', 'the', 'India', 'Nepal', 'border', ',', 'is', 'near', 'Istor', 'o', 'Nal', ',', 'a', 'stunning', 'peak', 'in', 'the', 'Hindu', 'Kush', '.'], 'labels': ['B-MOUNTAIN_NAME', 'I-MOUNTAIN_NAME', 'O', 'O', 'O', 'O', 'O', 'O', 'O', 'O', 'O', 'O', 'B-MOUNTAIN_NAME', 'I-MOUNTAIN_NAME', 'I-MOUNTAIN_NAME', 'O', 'O', 'O', 'O', 'O', 'O', 'O', 'O', 'O']}, {'tokens': ['Istor', 'o', 'Nal', 'and', 'Jongsong', 'Peak', 'are', 'both', 'known', 'for', 'their', 'rugged', 'beauty', 'and', 'remote', 'locations', '.'], 'labels': ['B-MOUNTAIN_NAME', 'I-MOUNTAIN_NAME', 'I-MOUNTAIN_NAME', 'O', 'B-MOUNTAIN_NAME', 'I-MOUNTAIN_NAME', 'O', 'O', 'O', 'O', 'O', 'O', 'O', 'O', 'O', 'O', 'O']}, {'tokens': ['K2', ',', 'the', 'second', 'highest', 'mountain', 'in', 'the', 'world', ',', 'is', 'located', 'near', 'Khartaphu', ',', 'a', 'lesser', 'known', 'peak', 'in', 'the', 'region', '.'], 'labels': ['B-MOUNTAIN_NAME', 'O', 'O', 'O', 'O', 'O', 'O', 'O', 'O', 'O', 'O', 'O', 'O', 'B-MOUNTAIN_NAME', 'O', 'O', 'O', 'O', 'O', 'O', 'O', 'O', 'O']}, {'tokens': ['Khartaphu', 'stands', 'in', 'the', 'shadow', 'of', 'K2', ',', 'both', 'peaks', 'offering', 'extreme', 'challenges', 'for', 'mountaineers', '.'], 'labels': ['B-MOUNTAIN_NAME', 'O', 'O', 'O', 'O', 'O', 'B-MOUNTAIN_NAME', 'O', 'O', 'O', 'O', 'O', 'O', 'O', 'O', 'O']}, {'tokens': ['Porong', 'Ri', ',', 'a', 'striking', 'peak', 'in', 'Tibet', ',', 'is', 'located', 'near', 'Shispare', ',', 'a', 'beautiful', 'mountain', 'in', 'the', 'Karakoram', 'range', '.'], 'labels': ['B-MOUNTAIN_NAME', 'I-MOUNTAIN_NAME', 'O', 'O', 'O', 'O', 'O', 'O', 'O', 'O', 'O', 'O', 'B-MOUNTAIN_NAME', 'O', 'O', 'O', 'O', 'O', 'O', 'O', 'O', 'O']}, {'tokens': ['Shispare', ',', 'standing', 'near', 'Porong', 'Ri', ',', 'is', 'known', 'for', 'its', 'steep', 'ridges', 'and', 'icy', 'slopes', '.'], 'labels': ['B-MOUNTAIN_NAME', 'O', 'O', 'O', 'B-MOUNTAIN_NAME', 'I-MOUNTAIN_NAME', 'O', 'O', 'O', 'O', 'O', 'O', 'O', 'O', 'O', 'O', 'O']}, {'tokens': ['Annapurna', 'I', ',', 'the', 'highest', 'peak', 'in', 'the', 'Annapurna', 'range', ',', 'is', 'located', 'near', 'Churen', 'Himal', ',', 'another', 'significant', 'peak', '.'], 'labels': ['B-MOUNTAIN_NAME', 'I-MOUNTAIN_NAME', 'O', 'O', 'O', 'O', 'O', 'O', 'O', 'O', 'O', 'O', 'O', 'O', 'B-MOUNTAIN_NAME', 'I-MOUNTAIN_NAME', 'O', 'O', 'O', 'O', 'O']}, {'tokens': ['Churen', 'Himal', 'rises', 'near', 'Annapurna', 'I', ',', 'both', 'mountains', 'offering', 'tough', 'climbs', 'and', 'stunning', 'views', '.'], 'labels': ['B-MOUNTAIN_NAME', 'I-MOUNTAIN_NAME', 'O', 'O', 'B-MOUNTAIN_NAME', 'I-MOUNTAIN_NAME', 'O', 'O', 'O', 'O', 'O', 'O', 'O', 'O', 'O', 'O']}, {'tokens': ['Teram', 'Kangri', 'III', ',', 'a', 'peak', 'in', 'the', 'Karakoram', 'range', ',', 'is', 'located', 'near', 'Ultar', ',', 'a', 'high', 'and', 'challenging', 'mountain', '.'], 'labels': ['B-MOUNTAIN_NAME', 'I-MOUNTAIN_NAME', 'I-MOUNTAIN_NAME', 'O', 'O', 'O', 'O', 'O', 'O', 'O', 'O', 'O', 'O', 'O', 'B-MOUNTAIN_NAME', 'O', 'O', 'O', 'O', 'O', 'O', 'O']}, {'tokens': ['Ultar', 'stands', 'alongside', 'Teram', 'Kangri', 'III', ',', 'both', 'peaks', 'offering', 'breathtaking', 'views', 'and', 'difficult', 'climbs', '.'], 'labels': ['B-MOUNTAIN_NAME', 'O', 'O', 'B-MOUNTAIN_NAME', 'I-MOUNTAIN_NAME', 'I-MOUNTAIN_NAME', 'O', 'O', 'O', 'O', 'O', 'O', 'O', 'O', 'O', 'O']}, {'tokens': ['Apsarasas', 'Kangri', ',', 'one', 'of', 'the', 'highest', 'peaks', 'in', 'the', 'Karakoram', ',', 'is', 'located', 'near', 'Saser', 'Kangri', 'II', 'E', ',', 'another', 'major', 'peak', '.'], 'labels': ['B-MOUNTAIN_NAME', 'I-MOUNTAIN_NAME', 'O', 'O', 'O', 'O', 'O', 'O', 'O', 'O', 'O', 'O', 'O', 'O', 'O', 'B-MOUNTAIN_NAME', 'I-MOUNTAIN_NAME', 'I-MOUNTAIN_NAME', 'I-MOUNTAIN_NAME', 'O', 'O', 'O', 'O', 'O']}, {'tokens': ['Saser', 'Kangri', 'II', 'E', ',', 'rising', 'near', 'Apsarasas', 'Kangri', ',', 'is', 'known', 'for', 'its', 'remote', 'location', 'and', 'extreme', 'climbing', 'conditions', '.'], 'labels': ['B-MOUNTAIN_NAME', 'I-MOUNTAIN_NAME', 'I-MOUNTAIN_NAME', 'I-MOUNTAIN_NAME', 'O', 'O', 'O', 'B-MOUNTAIN_NAME', 'I-MOUNTAIN_NAME', 'O', 'O', 'O', 'O', 'O', 'O', 'O', 'O', 'O', 'O', 'O', 'O']}, {'tokens': ['Abi', 'Gamin', ',', 'a', 'prominent', 'peak', 'in', 'India', ',', 'is', 'located', 'near', 'Tongshanjiabu', ',', 'a', 'remote', 'mountain', 'on', 'the', 'Bhutan', 'Tibet', 'border', '.'], 'labels': ['B-MOUNTAIN_NAME', 'I-MOUNTAIN_NAME', 'O', 'O', 'O', 'O', 'O', 'O', 'O', 'O', 'O', 'O', 'O', 'O', 'O', 'O', 'O', 'O', 'O', 'O', 'O', 'O', 'O']}, {'tokens': ['Tongshanjiabu', 'rises', 'near', 'Abi', 'Gamin', ',', 'both', 'peaks', 'offering', 'unique', 'and', 'less', 'traveled', 'routes', 'for', 'mountaineers', '.'], 'labels': ['O', 'O', 'O', 'B-MOUNTAIN_NAME', 'I-MOUNTAIN_NAME', 'O', 'O', 'O', 'O', 'O', 'O', 'O', 'O', 'O', 'O', 'O', 'O']}, {'tokens': ['Distaghil', 'Sar', ',', 'one', 'of', 'the', 'tallest', 'peaks', 'in', 'the', 'Karakoram', ',', 'is', 'known', 'for', 'its', 'rugged', 'and', 'imposing', 'presence', '.'], 'labels': ['B-MOUNTAIN_NAME', 'I-MOUNTAIN_NAME', 'O', 'O', 'O', 'O', 'O', 'O', 'O', 'O', 'O', 'O', 'O', 'O', 'O', 'O', 'O', 'O', 'O', 'O', 'O']}, {'tokens': ['Distaghil', 'Sar', 'stands', 'alone', 'as', 'a', 'formidable', 'challenge', 'for', 'climbers', 'seeking', 'adventure', 'in', 'the', 'remote', 'Karakoram', 'range', '.'], 'labels': ['B-MOUNTAIN_NAME', 'I-MOUNTAIN_NAME', 'O', 'O', 'O', 'O', 'O', 'O', 'O', 'O', 'O', 'O', 'O', 'O', 'O', 'O', 'O', 'O']}]\n"
     ]
    }
   ],
   "source": [
    "# Define a function that will identify all mountain names in the text and annotate them using BIO tagging format\n",
    "# B - Beginning, I - Inside, O - Outside (for named entity recognition tasks)\n",
    "\n",
    "def annotate_texts_bio(sentences, groups):\n",
    "\n",
    "    \"\"\"\n",
    "    Annotate texts with mountain names using BIO tagging.\n",
    "\n",
    "    Args:\n",
    "        sentences (list): A list of sentences to be annotated.\n",
    "        groups (list): A list of mountain groups for annotation.\n",
    "\n",
    "    Returns:\n",
    "        list: A list of annotated sentences in BIO format.\n",
    "    \"\"\"\n",
    "\n",
    "    annotated_sentences = []\n",
    "    \n",
    "    for sentence in sentences:\n",
    "        tokens = re.findall(r\"\\w+|[.,!?;]\", sentence.strip()) # Split the sentence into tokens, keeping punctuation as separate tokens\n",
    "        if not tokens:\n",
    "            continue # Skip empty sentences\n",
    "        labels = ['O'] * len(tokens) # Initialize all labels as 'O'\n",
    "\n",
    "        for group in groups:\n",
    "            for name in group:\n",
    "                name_tokens = re.findall(r\"\\w+|[.,!?;]\", name) # Split the mountain name into tokens, keeping punctuation as separate tokens\n",
    "                for i in range(len(tokens)):\n",
    "                    # Check if the tokens match the mountain name tokens\n",
    "                    if tokens[i:i + len(name_tokens)] == name_tokens:\n",
    "                        labels[i] = \"B-MOUNTAIN_NAME\" # Mark the beginning of the mountain name\n",
    "                        for j in range(1, len(name_tokens)):\n",
    "                            labels[i + j] = \"I-MOUNTAIN_NAME\" # Mark the inside tokens of the mountain name\n",
    "\n",
    "        annotated_sentences.append({\"tokens\": tokens, \"labels\": labels})\n",
    "    \n",
    "    return annotated_sentences\n",
    "\n",
    "# Annotate the generated mountain sentences using BIO tagging\n",
    "annotated_sentences_bio = annotate_texts_bio(generated_sentences, divided_mountain_names)\n",
    "print(annotated_sentences_bio)"
   ]
  },
  {
   "cell_type": "markdown",
   "metadata": {},
   "source": [
    "## 9. Save annotated data to JSON file"
   ]
  },
  {
   "cell_type": "code",
   "execution_count": 14,
   "metadata": {},
   "outputs": [
    {
     "name": "stdout",
     "output_type": "stream",
     "text": [
      "Annotated sentences saved to ../data/processed_data/annotated_mountain_sentences_bio.json\n"
     ]
    }
   ],
   "source": [
    "# Save the annotated data in JSON format for future use in training NER models\n",
    "annotated_output_path_bio = \"../data/processed_data/annotated_mountain_sentences_bio.json\"\n",
    "with open(annotated_output_path_bio, \"w\", encoding=\"utf-8\") as json_file:\n",
    "    json.dump(annotated_sentences_bio, json_file, indent=4)\n",
    "\n",
    "print(f\"Annotated sentences saved to {annotated_output_path_bio}\")"
   ]
  }
 ],
 "metadata": {
  "kernelspec": {
   "display_name": "venv",
   "language": "python",
   "name": "python3"
  },
  "language_info": {
   "codemirror_mode": {
    "name": "ipython",
    "version": 3
   },
   "file_extension": ".py",
   "mimetype": "text/x-python",
   "name": "python",
   "nbconvert_exporter": "python",
   "pygments_lexer": "ipython3",
   "version": "3.12.3"
  }
 },
 "nbformat": 4,
 "nbformat_minor": 2
}
